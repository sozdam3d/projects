{
 "cells": [
  {
   "cell_type": "markdown",
   "metadata": {},
   "source": [
    "В квартальной системе устройства городских улиц, заблудился автомобилист, он ищет путь случайным образом. Вероятность того, что он поедет на север, юг, запад или восток – одинакова (равновероятна). Найти вероятность того, что проехав 20 кварталов, он окажется не далее чем 4 квартала, от того места, с которого начал путь. (Для решения этой задачи нужно использовать язык программирования Python)."
   ]
  },
  {
   "cell_type": "code",
   "execution_count": 12,
   "metadata": {},
   "outputs": [
    {
     "data": {
      "text/plain": [
       "(-1, 1, -1, 3)"
      ]
     },
     "execution_count": 12,
     "metadata": {},
     "output_type": "execute_result"
    }
   ],
   "source": [
    "import numpy as np\n",
    "'''1 - север\n",
    "2 - восток\n",
    "3 - юг\n",
    "4- запад\n",
    "'''\n"
   ]
  }
 ],
 "metadata": {
  "kernelspec": {
   "display_name": "Python 3",
   "language": "python",
   "name": "python3"
  },
  "language_info": {
   "codemirror_mode": {
    "name": "ipython",
    "version": 3
   },
   "file_extension": ".py",
   "mimetype": "text/x-python",
   "name": "python",
   "nbconvert_exporter": "python",
   "pygments_lexer": "ipython3",
   "version": "3.11.4"
  }
 },
 "nbformat": 4,
 "nbformat_minor": 2
}
