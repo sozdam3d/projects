{
 "cells": [
  {
   "cell_type": "markdown",
   "metadata": {},
   "source": [
    "HR-агентство изучает тренды на рынке труда в IT. Компания хочет провести исследование на основе данных о зарплатах в сфере Data Science за 2020–2022 годы и получить некоторые выводы.\n",
    "\n",
    "Описание столбцов:\n",
    "* work_year\tГод, в котором была выплачена зарплата.\n",
    "* experience_level\tОпыт работы на этой должности в течение года со следующими возможными значениями:\n",
    "  * EN — Entry-level/Junior;\n",
    "  * MI — Mid-level/Intermediate;\n",
    "  * SE — Senior-level/Expert;\n",
    "  * EX — Executive-level/Director.\n",
    "  \n",
    "* employment_type\tТип трудоустройства для этой роли:\n",
    "  * PT — неполный рабочий день;\n",
    "  * FT — полный рабочий день;\n",
    "  * CT — контракт;\n",
    "  * FL — фриланс.\n",
    "\n",
    "* job_title -\tРоль, в которой соискатель работал в течение года.\n",
    "* salary -\tОбщая выплаченная валовая сумма заработной платы.\n",
    "* salary_currency -\tВалюта выплачиваемой заработной платы в виде кода валюты ISO 4217.\n",
    "* salary_in_usd -\tЗарплата в долларах США (валютный курс, делённый на среднее значение курса доллара США за соответствующий год через fxdata.foorilla.com).\n",
    "* employee_residence -\tОсновная страна проживания сотрудника в течение рабочего года в виде кода страны ISO 3166.\n",
    "* remote_ratio -\tОбщий объём работы, выполняемой удалённо. Возможные значения:\n",
    "  * 0 — удалённой работы нет (менее 20 %);\n",
    "  * 50 — частично удалённая работа;\n",
    "  * 100 — полностью удалённая работа (более 80 %).\n",
    "* company_location -\tСтрана главного офиса работодателя или филиала по контракту в виде кода страны ISO 3166.\n",
    "* company_size -\tСреднее количество людей, работавших в компании в течение года:\n",
    "  * S — менее 50 сотрудников (небольшая компания);\n",
    "  * M — от 50 до 250 сотрудников (средняя компания);\n",
    "  * L — более 250 сотрудников (крупная компания)."
   ]
  },
  {
   "cell_type": "markdown",
   "metadata": {},
   "source": [
    "Исследуйте данные и сделайте выводы по полученным результатам. Подкрепите свои рассуждения и выводы визуализациями и с помощью статистического тестирования проверьте, являются ли выводы статистически значимыми.\n",
    "\n",
    "В процессе своего анализа вы должны:\n",
    "\n",
    "1. Выяснить, какие факторы влияют на зарплату специалиста Data Scientist.\n",
    "2. А также ответить на ключевые вопросы HR-агентства:\n",
    "  * Наблюдается ли ежегодный рост зарплат у специалистов Data Scientist?\n",
    "  * Как соотносятся зарплаты Data Scientist и Data Engineer в 2022 году?\n",
    "  * Как соотносятся зарплаты специалистов Data Scientist в компаниях различных размеров?\n",
    "  * Есть ли связь между наличием должностей Data Scientist и Data Engineer и размером компании?"
   ]
  },
  {
   "cell_type": "markdown",
   "metadata": {},
   "source": [
    "## Загрузка данных"
   ]
  },
  {
   "cell_type": "code",
   "execution_count": 500,
   "metadata": {},
   "outputs": [],
   "source": [
    "import pandas as pd\n",
    "import numpy as np\n",
    "\n",
    "from scipy import stats\n",
    "from statsmodels import stats as sms\n",
    "\n",
    "import matplotlib.pyplot as plt\n",
    "import seaborn as sns"
   ]
  },
  {
   "cell_type": "markdown",
   "metadata": {},
   "source": [
    "Данные скопированы в Google Drive  и доступны по [ссылке](https://drive.google.com/file/d/1NGgdLzaQqVu0DQJzVl1Sbva64khF5qkv/view?usp=sharing)"
   ]
  },
  {
   "cell_type": "code",
   "execution_count": 501,
   "metadata": {},
   "outputs": [
    {
     "data": {
      "text/plain": [
       "Index(['work_year', 'experience_level', 'employment_type', 'job_title',\n",
       "       'salary', 'salary_currency', 'salary_in_usd', 'employee_residence',\n",
       "       'remote_ratio', 'company_location', 'company_size'],\n",
       "      dtype='object')"
      ]
     },
     "metadata": {},
     "output_type": "display_data"
    },
    {
     "data": {
      "text/html": [
       "<div>\n",
       "<style scoped>\n",
       "    .dataframe tbody tr th:only-of-type {\n",
       "        vertical-align: middle;\n",
       "    }\n",
       "\n",
       "    .dataframe tbody tr th {\n",
       "        vertical-align: top;\n",
       "    }\n",
       "\n",
       "    .dataframe thead th {\n",
       "        text-align: right;\n",
       "    }\n",
       "</style>\n",
       "<table border=\"1\" class=\"dataframe\">\n",
       "  <thead>\n",
       "    <tr style=\"text-align: right;\">\n",
       "      <th></th>\n",
       "      <th>work_year</th>\n",
       "      <th>experience_level</th>\n",
       "      <th>employment_type</th>\n",
       "      <th>job_title</th>\n",
       "      <th>salary</th>\n",
       "      <th>salary_currency</th>\n",
       "      <th>salary_in_usd</th>\n",
       "      <th>employee_residence</th>\n",
       "      <th>remote_ratio</th>\n",
       "      <th>company_location</th>\n",
       "      <th>company_size</th>\n",
       "    </tr>\n",
       "  </thead>\n",
       "  <tbody>\n",
       "    <tr>\n",
       "      <th>0</th>\n",
       "      <td>2020</td>\n",
       "      <td>MI</td>\n",
       "      <td>FT</td>\n",
       "      <td>Data Scientist</td>\n",
       "      <td>70000</td>\n",
       "      <td>EUR</td>\n",
       "      <td>79833</td>\n",
       "      <td>DE</td>\n",
       "      <td>0</td>\n",
       "      <td>DE</td>\n",
       "      <td>L</td>\n",
       "    </tr>\n",
       "    <tr>\n",
       "      <th>1</th>\n",
       "      <td>2020</td>\n",
       "      <td>SE</td>\n",
       "      <td>FT</td>\n",
       "      <td>Machine Learning Scientist</td>\n",
       "      <td>260000</td>\n",
       "      <td>USD</td>\n",
       "      <td>260000</td>\n",
       "      <td>JP</td>\n",
       "      <td>0</td>\n",
       "      <td>JP</td>\n",
       "      <td>S</td>\n",
       "    </tr>\n",
       "    <tr>\n",
       "      <th>2</th>\n",
       "      <td>2020</td>\n",
       "      <td>SE</td>\n",
       "      <td>FT</td>\n",
       "      <td>Big Data Engineer</td>\n",
       "      <td>85000</td>\n",
       "      <td>GBP</td>\n",
       "      <td>109024</td>\n",
       "      <td>GB</td>\n",
       "      <td>50</td>\n",
       "      <td>GB</td>\n",
       "      <td>M</td>\n",
       "    </tr>\n",
       "  </tbody>\n",
       "</table>\n",
       "</div>"
      ],
      "text/plain": [
       "   work_year experience_level employment_type                   job_title  \\\n",
       "0       2020               MI              FT              Data Scientist   \n",
       "1       2020               SE              FT  Machine Learning Scientist   \n",
       "2       2020               SE              FT           Big Data Engineer   \n",
       "\n",
       "   salary salary_currency  salary_in_usd employee_residence  remote_ratio  \\\n",
       "0   70000             EUR          79833                 DE             0   \n",
       "1  260000             USD         260000                 JP             0   \n",
       "2   85000             GBP         109024                 GB            50   \n",
       "\n",
       "  company_location company_size  \n",
       "0               DE            L  \n",
       "1               JP            S  \n",
       "2               GB            M  "
      ]
     },
     "execution_count": 501,
     "metadata": {},
     "output_type": "execute_result"
    }
   ],
   "source": [
    "original_data=pd.read_csv('project_data\\ds_salaries.csv',index_col='Unnamed: 0')\n",
    "data=original_data.copy()\n",
    "display(data.columns)\n",
    "data.head(3)"
   ]
  },
  {
   "cell_type": "code",
   "execution_count": 502,
   "metadata": {},
   "outputs": [
    {
     "name": "stdout",
     "output_type": "stream",
     "text": [
      "Уровень значимости aplha = 0.05\n"
     ]
    }
   ],
   "source": [
    "# задаем уровень значимости\n",
    "alpha= 0.05\n",
    "print('Уровень значимости aplha = {:.2f}'.format(alpha))"
   ]
  },
  {
   "cell_type": "markdown",
   "metadata": {},
   "source": [
    "## Описательный анализ данных"
   ]
  },
  {
   "cell_type": "code",
   "execution_count": 503,
   "metadata": {},
   "outputs": [
    {
     "name": "stdout",
     "output_type": "stream",
     "text": [
      "<class 'pandas.core.frame.DataFrame'>\n",
      "Index: 607 entries, 0 to 606\n",
      "Data columns (total 11 columns):\n",
      " #   Column              Non-Null Count  Dtype \n",
      "---  ------              --------------  ----- \n",
      " 0   work_year           607 non-null    int64 \n",
      " 1   experience_level    607 non-null    object\n",
      " 2   employment_type     607 non-null    object\n",
      " 3   job_title           607 non-null    object\n",
      " 4   salary              607 non-null    int64 \n",
      " 5   salary_currency     607 non-null    object\n",
      " 6   salary_in_usd       607 non-null    int64 \n",
      " 7   employee_residence  607 non-null    object\n",
      " 8   remote_ratio        607 non-null    int64 \n",
      " 9   company_location    607 non-null    object\n",
      " 10  company_size        607 non-null    object\n",
      "dtypes: int64(4), object(7)\n",
      "memory usage: 56.9+ KB\n"
     ]
    }
   ],
   "source": [
    "data.info()"
   ]
  },
  {
   "cell_type": "markdown",
   "metadata": {},
   "source": [
    "В талице 607 записей (без пропущенных значений).\n",
    "\n",
    "Проверим дубликаты"
   ]
  },
  {
   "cell_type": "code",
   "execution_count": 504,
   "metadata": {},
   "outputs": [
    {
     "name": "stdout",
     "output_type": "stream",
     "text": [
      "Общий размер таблицы: (607, 11)\n",
      "Количество дубликатов в таблице: 42\n",
      "Новый размер таблицы после удаления дубликатов: (565, 11)\n"
     ]
    }
   ],
   "source": [
    "print('Общий размер таблицы: {}'.format(data.shape))\n",
    "print('Количество дубликатов в таблице: {}'.format(data[data.duplicated()].shape[0]))\n",
    "data=data.drop_duplicates()\n",
    "print('Новый размер таблицы после удаления дубликатов: {}'.format(data.shape))\n"
   ]
  },
  {
   "cell_type": "markdown",
   "metadata": {},
   "source": [
    "Удалим неинформативные признаки такие как:\n",
    "- \"salary\";\n",
    "- \"salary_currency\".\n",
    "Заработные платы приведены к одной валюте в колонке 'salary_in_usd'."
   ]
  },
  {
   "cell_type": "code",
   "execution_count": 505,
   "metadata": {},
   "outputs": [],
   "source": [
    "del data['salary']\n",
    "del data['salary_currency']"
   ]
  },
  {
   "cell_type": "markdown",
   "metadata": {},
   "source": [
    "Для изучения отделим данные по Data Scientist. Просмотрим варианты названий и отделим ненужное."
   ]
  },
  {
   "cell_type": "code",
   "execution_count": 506,
   "metadata": {},
   "outputs": [
    {
     "data": {
      "text/plain": [
       "'Количество ваканский в таблице: 50.'"
      ]
     },
     "metadata": {},
     "output_type": "display_data"
    },
    {
     "data": {
      "text/plain": [
       "array(['Data Scientist', 'Machine Learning Scientist',\n",
       "       'Big Data Engineer', 'Product Data Analyst',\n",
       "       'Machine Learning Engineer', 'Data Analyst', 'Lead Data Scientist',\n",
       "       'Business Data Analyst', 'Lead Data Engineer', 'Lead Data Analyst',\n",
       "       'Data Engineer', 'Data Science Consultant', 'BI Data Analyst',\n",
       "       'Director of Data Science', 'Research Scientist',\n",
       "       'Machine Learning Manager', 'Data Engineering Manager',\n",
       "       'Machine Learning Infrastructure Engineer', 'ML Engineer',\n",
       "       'AI Scientist', 'Computer Vision Engineer',\n",
       "       'Principal Data Scientist', 'Data Science Manager', 'Head of Data',\n",
       "       '3D Computer Vision Researcher', 'Data Analytics Engineer',\n",
       "       'Applied Data Scientist', 'Marketing Data Analyst',\n",
       "       'Cloud Data Engineer', 'Financial Data Analyst',\n",
       "       'Computer Vision Software Engineer',\n",
       "       'Director of Data Engineering', 'Data Science Engineer',\n",
       "       'Principal Data Engineer', 'Machine Learning Developer',\n",
       "       'Applied Machine Learning Scientist', 'Data Analytics Manager',\n",
       "       'Head of Data Science', 'Data Specialist', 'Data Architect',\n",
       "       'Finance Data Analyst', 'Principal Data Analyst',\n",
       "       'Big Data Architect', 'Staff Data Scientist', 'Analytics Engineer',\n",
       "       'ETL Developer', 'Head of Machine Learning', 'NLP Engineer',\n",
       "       'Lead Machine Learning Engineer', 'Data Analytics Lead'],\n",
       "      dtype=object)"
      ]
     },
     "metadata": {},
     "output_type": "display_data"
    }
   ],
   "source": [
    "display('Количество ваканский в таблице: {}.'.format(len(data['job_title'].unique())))\n",
    "jt=data['job_title'].unique()\n",
    "display(jt)"
   ]
  },
  {
   "cell_type": "code",
   "execution_count": 507,
   "metadata": {},
   "outputs": [
    {
     "data": {
      "text/html": [
       "<div>\n",
       "<style scoped>\n",
       "    .dataframe tbody tr th:only-of-type {\n",
       "        vertical-align: middle;\n",
       "    }\n",
       "\n",
       "    .dataframe tbody tr th {\n",
       "        vertical-align: top;\n",
       "    }\n",
       "\n",
       "    .dataframe thead th {\n",
       "        text-align: right;\n",
       "    }\n",
       "</style>\n",
       "<table border=\"1\" class=\"dataframe\">\n",
       "  <thead>\n",
       "    <tr style=\"text-align: right;\">\n",
       "      <th></th>\n",
       "      <th>work_year</th>\n",
       "      <th>experience_level</th>\n",
       "      <th>employment_type</th>\n",
       "      <th>salary_in_usd</th>\n",
       "      <th>employee_residence</th>\n",
       "      <th>remote_ratio</th>\n",
       "      <th>company_location</th>\n",
       "      <th>company_size</th>\n",
       "      <th>job</th>\n",
       "    </tr>\n",
       "  </thead>\n",
       "  <tbody>\n",
       "    <tr>\n",
       "      <th>0</th>\n",
       "      <td>2020</td>\n",
       "      <td>MI</td>\n",
       "      <td>FT</td>\n",
       "      <td>79833</td>\n",
       "      <td>DE</td>\n",
       "      <td>0</td>\n",
       "      <td>DE</td>\n",
       "      <td>L</td>\n",
       "      <td>Data Scientist</td>\n",
       "    </tr>\n",
       "    <tr>\n",
       "      <th>1</th>\n",
       "      <td>2020</td>\n",
       "      <td>SE</td>\n",
       "      <td>FT</td>\n",
       "      <td>260000</td>\n",
       "      <td>JP</td>\n",
       "      <td>0</td>\n",
       "      <td>JP</td>\n",
       "      <td>S</td>\n",
       "      <td>None</td>\n",
       "    </tr>\n",
       "    <tr>\n",
       "      <th>2</th>\n",
       "      <td>2020</td>\n",
       "      <td>SE</td>\n",
       "      <td>FT</td>\n",
       "      <td>109024</td>\n",
       "      <td>GB</td>\n",
       "      <td>50</td>\n",
       "      <td>GB</td>\n",
       "      <td>M</td>\n",
       "      <td>Data Engineer</td>\n",
       "    </tr>\n",
       "  </tbody>\n",
       "</table>\n",
       "</div>"
      ],
      "text/plain": [
       "   work_year experience_level employment_type  salary_in_usd  \\\n",
       "0       2020               MI              FT          79833   \n",
       "1       2020               SE              FT         260000   \n",
       "2       2020               SE              FT         109024   \n",
       "\n",
       "  employee_residence  remote_ratio company_location company_size  \\\n",
       "0                 DE             0               DE            L   \n",
       "1                 JP             0               JP            S   \n",
       "2                 GB            50               GB            M   \n",
       "\n",
       "              job  \n",
       "0  Data Scientist  \n",
       "1            None  \n",
       "2   Data Engineer  "
      ]
     },
     "execution_count": 507,
     "metadata": {},
     "output_type": "execute_result"
    }
   ],
   "source": [
    "\n",
    "def find_ds_de(arg:str)->str:\n",
    "    '''\n",
    "    Функция принимает на вход наименование должности.\n",
    "    Отдает на  выходе должности:\n",
    "    - Data Scientist;\n",
    "    - Data Engineer;\n",
    "    - None\n",
    "    '''\n",
    "    lst=arg.split()\n",
    "    for i in lst:\n",
    "        if i=='Data':\n",
    "            for j in lst:\n",
    "                if j=='Science' or j=='Scientist':\n",
    "                    return 'Data Scientist'\n",
    "                elif j=='Engineer' or j=='Engineering':\n",
    "                    return 'Data Engineer'\n",
    "\n",
    "data['job']=data['job_title'].apply(find_ds_de)\n",
    "\n",
    "del data['job_title']\n",
    "data.head(3)"
   ]
  },
  {
   "cell_type": "markdown",
   "metadata": {},
   "source": [
    "### Распределение зарплат по всем Data Scientist"
   ]
  },
  {
   "cell_type": "code",
   "execution_count": 508,
   "metadata": {},
   "outputs": [
    {
     "data": {
      "image/png": "[encoded data removed]",
      "text/plain": [
       "<Figure size 1200x400 with 2 Axes>"
      ]
     },
     "metadata": {},
     "output_type": "display_data"
    }
   ],
   "source": [
    "fig,axes=plt.subplots(1,2,figsize=(12,4))\n",
    "\n",
    "sns.histplot(data[data['job']=='Data Scientist']['salary_in_usd'],kde=True,ax=axes[0],bins=20)\n",
    "axes[0].set(xlabel='Размер зарплаты', ylabel='Частота')\n",
    "axes[0].set_title('Распределение зараплат DS')\n",
    "axes[0].axvline(data[data['job']=='Data Scientist']['salary_in_usd'].mean(),color='red',linestyle='--',linewidth=2);\n",
    "\n",
    "sns.boxplot(data[data['job']=='Data Scientist']['salary_in_usd'], orient='h',ax=axes[1])\n",
    "axes[1].set(xlabel='Размер зарплаты', ylabel='Частота')\n",
    "axes[1].set_title('Распределение зараплат DS')\n",
    "axes[1].axvline(data[data['job']=='Data Scientist']['salary_in_usd'].mean(),color='red',linestyle='--',linewidth=2);"
   ]
  },
  {
   "cell_type": "code",
   "execution_count": 509,
   "metadata": {},
   "outputs": [
    {
     "data": {
      "text/html": [
       "<div>\n",
       "<style scoped>\n",
       "    .dataframe tbody tr th:only-of-type {\n",
       "        vertical-align: middle;\n",
       "    }\n",
       "\n",
       "    .dataframe tbody tr th {\n",
       "        vertical-align: top;\n",
       "    }\n",
       "\n",
       "    .dataframe thead th {\n",
       "        text-align: right;\n",
       "    }\n",
       "</style>\n",
       "<table border=\"1\" class=\"dataframe\">\n",
       "  <thead>\n",
       "    <tr style=\"text-align: right;\">\n",
       "      <th></th>\n",
       "      <th>Размер зарплат специалистов DS</th>\n",
       "    </tr>\n",
       "  </thead>\n",
       "  <tbody>\n",
       "    <tr>\n",
       "      <th>count</th>\n",
       "      <td>179.00</td>\n",
       "    </tr>\n",
       "    <tr>\n",
       "      <th>mean</th>\n",
       "      <td>116396.41</td>\n",
       "    </tr>\n",
       "    <tr>\n",
       "      <th>std</th>\n",
       "      <td>72362.48</td>\n",
       "    </tr>\n",
       "    <tr>\n",
       "      <th>min</th>\n",
       "      <td>2859.00</td>\n",
       "    </tr>\n",
       "    <tr>\n",
       "      <th>25%</th>\n",
       "      <td>62096.50</td>\n",
       "    </tr>\n",
       "    <tr>\n",
       "      <th>50%</th>\n",
       "      <td>105000.00</td>\n",
       "    </tr>\n",
       "    <tr>\n",
       "      <th>75%</th>\n",
       "      <td>157600.00</td>\n",
       "    </tr>\n",
       "    <tr>\n",
       "      <th>max</th>\n",
       "      <td>416000.00</td>\n",
       "    </tr>\n",
       "  </tbody>\n",
       "</table>\n",
       "</div>"
      ],
      "text/plain": [
       "       Размер зарплат специалистов DS\n",
       "count                          179.00\n",
       "mean                        116396.41\n",
       "std                          72362.48\n",
       "min                           2859.00\n",
       "25%                          62096.50\n",
       "50%                         105000.00\n",
       "75%                         157600.00\n",
       "max                         416000.00"
      ]
     },
     "metadata": {},
     "output_type": "display_data"
    }
   ],
   "source": [
    "ds_data_agg=data[data['job']=='Data Scientist']['salary_in_usd'].describe().round(2).to_frame()\n",
    "ds_data_agg.columns=['Размер зарплат специалистов DS']\n",
    "display(ds_data_agg)"
   ]
  },
  {
   "cell_type": "markdown",
   "metadata": {},
   "source": [
    "### Зарплаты DS в зависимости от года"
   ]
  },
  {
   "cell_type": "code",
   "execution_count": 510,
   "metadata": {},
   "outputs": [
    {
     "data": {
      "image/png": "[encoded data removed]",
      "text/plain": [
       "<Figure size 640x480 with 1 Axes>"
      ]
     },
     "metadata": {},
     "output_type": "display_data"
    }
   ],
   "source": [
    "ax=sns.boxplot(\n",
    "    data[data['job']=='Data Scientist'],\n",
    "    x='salary_in_usd',\n",
    "    y='work_year',\n",
    "    orient='h',\n",
    "    medianprops={'color':'red',\n",
    "                 'linestyle':'--',\n",
    "                 'linewidth':2})"
   ]
  },
  {
   "cell_type": "code",
   "execution_count": 511,
   "metadata": {},
   "outputs": [
    {
     "data": {
      "text/html": [
       "<div>\n",
       "<style scoped>\n",
       "    .dataframe tbody tr th:only-of-type {\n",
       "        vertical-align: middle;\n",
       "    }\n",
       "\n",
       "    .dataframe tbody tr th {\n",
       "        vertical-align: top;\n",
       "    }\n",
       "\n",
       "    .dataframe thead th {\n",
       "        text-align: right;\n",
       "    }\n",
       "</style>\n",
       "<table border=\"1\" class=\"dataframe\">\n",
       "  <thead>\n",
       "    <tr style=\"text-align: right;\">\n",
       "      <th></th>\n",
       "      <th>count</th>\n",
       "      <th>mean</th>\n",
       "      <th>std</th>\n",
       "      <th>min</th>\n",
       "      <th>25%</th>\n",
       "      <th>50%</th>\n",
       "      <th>75%</th>\n",
       "      <th>max</th>\n",
       "    </tr>\n",
       "    <tr>\n",
       "      <th>work_year</th>\n",
       "      <th></th>\n",
       "      <th></th>\n",
       "      <th></th>\n",
       "      <th></th>\n",
       "      <th></th>\n",
       "      <th></th>\n",
       "      <th></th>\n",
       "      <th></th>\n",
       "    </tr>\n",
       "  </thead>\n",
       "  <tbody>\n",
       "    <tr>\n",
       "      <th>2020</th>\n",
       "      <td>28.0</td>\n",
       "      <td>102948.18</td>\n",
       "      <td>89203.03</td>\n",
       "      <td>5707.0</td>\n",
       "      <td>44869.25</td>\n",
       "      <td>78395.5</td>\n",
       "      <td>118500.0</td>\n",
       "      <td>412000.0</td>\n",
       "    </tr>\n",
       "    <tr>\n",
       "      <th>2021</th>\n",
       "      <td>73.0</td>\n",
       "      <td>96397.90</td>\n",
       "      <td>69450.25</td>\n",
       "      <td>2859.0</td>\n",
       "      <td>49646.00</td>\n",
       "      <td>87738.0</td>\n",
       "      <td>130026.0</td>\n",
       "      <td>416000.0</td>\n",
       "    </tr>\n",
       "    <tr>\n",
       "      <th>2022</th>\n",
       "      <td>78.0</td>\n",
       "      <td>139940.54</td>\n",
       "      <td>61627.85</td>\n",
       "      <td>18442.0</td>\n",
       "      <td>100000.00</td>\n",
       "      <td>140400.0</td>\n",
       "      <td>176750.0</td>\n",
       "      <td>380000.0</td>\n",
       "    </tr>\n",
       "  </tbody>\n",
       "</table>\n",
       "</div>"
      ],
      "text/plain": [
       "           count       mean       std      min        25%       50%       75%  \\\n",
       "work_year                                                                       \n",
       "2020        28.0  102948.18  89203.03   5707.0   44869.25   78395.5  118500.0   \n",
       "2021        73.0   96397.90  69450.25   2859.0   49646.00   87738.0  130026.0   \n",
       "2022        78.0  139940.54  61627.85  18442.0  100000.00  140400.0  176750.0   \n",
       "\n",
       "                max  \n",
       "work_year            \n",
       "2020       412000.0  \n",
       "2021       416000.0  \n",
       "2022       380000.0  "
      ]
     },
     "metadata": {},
     "output_type": "display_data"
    }
   ],
   "source": [
    "ds_data_agg=data[data['job']=='Data Scientist'].groupby('work_year')['salary_in_usd'].describe().round(2)\n",
    "display(ds_data_agg)"
   ]
  },
  {
   "cell_type": "markdown",
   "metadata": {},
   "source": [
    "Разделения зарплат DS, судя по графику различны и таблице. Но рано судить о статистической значимости этих различий, только после статистического тестирования."
   ]
  },
  {
   "cell_type": "markdown",
   "metadata": {},
   "source": [
    "### Соотношение зарплат Data Scientist и Data Engineer в 2022 году"
   ]
  },
  {
   "cell_type": "code",
   "execution_count": 512,
   "metadata": {},
   "outputs": [
    {
     "data": {
      "text/html": [
       "<div>\n",
       "<style scoped>\n",
       "    .dataframe tbody tr th:only-of-type {\n",
       "        vertical-align: middle;\n",
       "    }\n",
       "\n",
       "    .dataframe tbody tr th {\n",
       "        vertical-align: top;\n",
       "    }\n",
       "\n",
       "    .dataframe thead th {\n",
       "        text-align: right;\n",
       "    }\n",
       "</style>\n",
       "<table border=\"1\" class=\"dataframe\">\n",
       "  <thead>\n",
       "    <tr style=\"text-align: right;\">\n",
       "      <th></th>\n",
       "      <th>work_year</th>\n",
       "      <th>experience_level</th>\n",
       "      <th>employment_type</th>\n",
       "      <th>salary_in_usd</th>\n",
       "      <th>employee_residence</th>\n",
       "      <th>remote_ratio</th>\n",
       "      <th>company_location</th>\n",
       "      <th>company_size</th>\n",
       "      <th>job</th>\n",
       "    </tr>\n",
       "  </thead>\n",
       "  <tbody>\n",
       "    <tr>\n",
       "      <th>289</th>\n",
       "      <td>2022</td>\n",
       "      <td>SE</td>\n",
       "      <td>FT</td>\n",
       "      <td>135000</td>\n",
       "      <td>US</td>\n",
       "      <td>100</td>\n",
       "      <td>US</td>\n",
       "      <td>M</td>\n",
       "      <td>Data Engineer</td>\n",
       "    </tr>\n",
       "    <tr>\n",
       "      <th>292</th>\n",
       "      <td>2022</td>\n",
       "      <td>MI</td>\n",
       "      <td>FT</td>\n",
       "      <td>130000</td>\n",
       "      <td>US</td>\n",
       "      <td>0</td>\n",
       "      <td>US</td>\n",
       "      <td>M</td>\n",
       "      <td>Data Scientist</td>\n",
       "    </tr>\n",
       "    <tr>\n",
       "      <th>293</th>\n",
       "      <td>2022</td>\n",
       "      <td>MI</td>\n",
       "      <td>FT</td>\n",
       "      <td>90000</td>\n",
       "      <td>US</td>\n",
       "      <td>0</td>\n",
       "      <td>US</td>\n",
       "      <td>M</td>\n",
       "      <td>Data Scientist</td>\n",
       "    </tr>\n",
       "    <tr>\n",
       "      <th>294</th>\n",
       "      <td>2022</td>\n",
       "      <td>MI</td>\n",
       "      <td>FT</td>\n",
       "      <td>170000</td>\n",
       "      <td>US</td>\n",
       "      <td>100</td>\n",
       "      <td>US</td>\n",
       "      <td>M</td>\n",
       "      <td>Data Engineer</td>\n",
       "    </tr>\n",
       "    <tr>\n",
       "      <th>295</th>\n",
       "      <td>2022</td>\n",
       "      <td>MI</td>\n",
       "      <td>FT</td>\n",
       "      <td>150000</td>\n",
       "      <td>US</td>\n",
       "      <td>100</td>\n",
       "      <td>US</td>\n",
       "      <td>M</td>\n",
       "      <td>Data Engineer</td>\n",
       "    </tr>\n",
       "    <tr>\n",
       "      <th>...</th>\n",
       "      <td>...</td>\n",
       "      <td>...</td>\n",
       "      <td>...</td>\n",
       "      <td>...</td>\n",
       "      <td>...</td>\n",
       "      <td>...</td>\n",
       "      <td>...</td>\n",
       "      <td>...</td>\n",
       "      <td>...</td>\n",
       "    </tr>\n",
       "    <tr>\n",
       "      <th>593</th>\n",
       "      <td>2022</td>\n",
       "      <td>SE</td>\n",
       "      <td>FT</td>\n",
       "      <td>150000</td>\n",
       "      <td>US</td>\n",
       "      <td>100</td>\n",
       "      <td>US</td>\n",
       "      <td>M</td>\n",
       "      <td>Data Scientist</td>\n",
       "    </tr>\n",
       "    <tr>\n",
       "      <th>598</th>\n",
       "      <td>2022</td>\n",
       "      <td>MI</td>\n",
       "      <td>FT</td>\n",
       "      <td>160000</td>\n",
       "      <td>US</td>\n",
       "      <td>100</td>\n",
       "      <td>US</td>\n",
       "      <td>M</td>\n",
       "      <td>Data Scientist</td>\n",
       "    </tr>\n",
       "    <tr>\n",
       "      <th>599</th>\n",
       "      <td>2022</td>\n",
       "      <td>MI</td>\n",
       "      <td>FT</td>\n",
       "      <td>130000</td>\n",
       "      <td>US</td>\n",
       "      <td>100</td>\n",
       "      <td>US</td>\n",
       "      <td>M</td>\n",
       "      <td>Data Scientist</td>\n",
       "    </tr>\n",
       "    <tr>\n",
       "      <th>602</th>\n",
       "      <td>2022</td>\n",
       "      <td>SE</td>\n",
       "      <td>FT</td>\n",
       "      <td>154000</td>\n",
       "      <td>US</td>\n",
       "      <td>100</td>\n",
       "      <td>US</td>\n",
       "      <td>M</td>\n",
       "      <td>Data Engineer</td>\n",
       "    </tr>\n",
       "    <tr>\n",
       "      <th>603</th>\n",
       "      <td>2022</td>\n",
       "      <td>SE</td>\n",
       "      <td>FT</td>\n",
       "      <td>126000</td>\n",
       "      <td>US</td>\n",
       "      <td>100</td>\n",
       "      <td>US</td>\n",
       "      <td>M</td>\n",
       "      <td>Data Engineer</td>\n",
       "    </tr>\n",
       "  </tbody>\n",
       "</table>\n",
       "<p>159 rows × 9 columns</p>\n",
       "</div>"
      ],
      "text/plain": [
       "     work_year experience_level employment_type  salary_in_usd  \\\n",
       "289       2022               SE              FT         135000   \n",
       "292       2022               MI              FT         130000   \n",
       "293       2022               MI              FT          90000   \n",
       "294       2022               MI              FT         170000   \n",
       "295       2022               MI              FT         150000   \n",
       "..         ...              ...             ...            ...   \n",
       "593       2022               SE              FT         150000   \n",
       "598       2022               MI              FT         160000   \n",
       "599       2022               MI              FT         130000   \n",
       "602       2022               SE              FT         154000   \n",
       "603       2022               SE              FT         126000   \n",
       "\n",
       "    employee_residence  remote_ratio company_location company_size  \\\n",
       "289                 US           100               US            M   \n",
       "292                 US             0               US            M   \n",
       "293                 US             0               US            M   \n",
       "294                 US           100               US            M   \n",
       "295                 US           100               US            M   \n",
       "..                 ...           ...              ...          ...   \n",
       "593                 US           100               US            M   \n",
       "598                 US           100               US            M   \n",
       "599                 US           100               US            M   \n",
       "602                 US           100               US            M   \n",
       "603                 US           100               US            M   \n",
       "\n",
       "                job  \n",
       "289   Data Engineer  \n",
       "292  Data Scientist  \n",
       "293  Data Scientist  \n",
       "294   Data Engineer  \n",
       "295   Data Engineer  \n",
       "..              ...  \n",
       "593  Data Scientist  \n",
       "598  Data Scientist  \n",
       "599  Data Scientist  \n",
       "602   Data Engineer  \n",
       "603   Data Engineer  \n",
       "\n",
       "[159 rows x 9 columns]"
      ]
     },
     "execution_count": 512,
     "metadata": {},
     "output_type": "execute_result"
    }
   ],
   "source": [
    "ds_de_data2022=data[(data['job'].notnull())&(data['work_year']==2022)]\n",
    "ds_de_data2022"
   ]
  },
  {
   "cell_type": "code",
   "execution_count": 513,
   "metadata": {},
   "outputs": [
    {
     "data": {
      "image/png": "[encoded data removed]",
      "text/plain": [
       "<Figure size 640x480 with 1 Axes>"
      ]
     },
     "metadata": {},
     "output_type": "display_data"
    }
   ],
   "source": [
    "ax=sns.boxplot(ds_de_data2022,x='salary_in_usd',y='job', medianprops={'color':'red','linestyle':'--', 'linewidth':2})\n",
    "ax.set_title('Распределение зарплат Data Scientist и Data Engineer')\n",
    "ax.set(xlabel='Заработная плата',  ylabel='Специальности');"
   ]
  },
  {
   "cell_type": "code",
   "execution_count": 514,
   "metadata": {},
   "outputs": [
    {
     "data": {
      "text/html": [
       "<div>\n",
       "<style scoped>\n",
       "    .dataframe tbody tr th:only-of-type {\n",
       "        vertical-align: middle;\n",
       "    }\n",
       "\n",
       "    .dataframe tbody tr th {\n",
       "        vertical-align: top;\n",
       "    }\n",
       "\n",
       "    .dataframe thead th {\n",
       "        text-align: right;\n",
       "    }\n",
       "</style>\n",
       "<table border=\"1\" class=\"dataframe\">\n",
       "  <thead>\n",
       "    <tr style=\"text-align: right;\">\n",
       "      <th></th>\n",
       "      <th>count</th>\n",
       "      <th>mean</th>\n",
       "      <th>std</th>\n",
       "      <th>min</th>\n",
       "      <th>25%</th>\n",
       "      <th>50%</th>\n",
       "      <th>75%</th>\n",
       "      <th>max</th>\n",
       "    </tr>\n",
       "    <tr>\n",
       "      <th>job</th>\n",
       "      <th></th>\n",
       "      <th></th>\n",
       "      <th></th>\n",
       "      <th></th>\n",
       "      <th></th>\n",
       "      <th></th>\n",
       "      <th></th>\n",
       "      <th></th>\n",
       "    </tr>\n",
       "  </thead>\n",
       "  <tbody>\n",
       "    <tr>\n",
       "      <th>Data Engineer</th>\n",
       "      <td>81.0</td>\n",
       "      <td>123279.98</td>\n",
       "      <td>58293.38</td>\n",
       "      <td>20000.0</td>\n",
       "      <td>78526.0</td>\n",
       "      <td>115000.0</td>\n",
       "      <td>160000.0</td>\n",
       "      <td>324000.0</td>\n",
       "    </tr>\n",
       "    <tr>\n",
       "      <th>Data Scientist</th>\n",
       "      <td>78.0</td>\n",
       "      <td>139940.54</td>\n",
       "      <td>61627.85</td>\n",
       "      <td>18442.0</td>\n",
       "      <td>100000.0</td>\n",
       "      <td>140400.0</td>\n",
       "      <td>176750.0</td>\n",
       "      <td>380000.0</td>\n",
       "    </tr>\n",
       "  </tbody>\n",
       "</table>\n",
       "</div>"
      ],
      "text/plain": [
       "                count       mean       std      min       25%       50%  \\\n",
       "job                                                                       \n",
       "Data Engineer    81.0  123279.98  58293.38  20000.0   78526.0  115000.0   \n",
       "Data Scientist   78.0  139940.54  61627.85  18442.0  100000.0  140400.0   \n",
       "\n",
       "                     75%       max  \n",
       "job                                 \n",
       "Data Engineer   160000.0  324000.0  \n",
       "Data Scientist  176750.0  380000.0  "
      ]
     },
     "execution_count": 514,
     "metadata": {},
     "output_type": "execute_result"
    }
   ],
   "source": [
    "ds_de_data2022.groupby('job')['salary_in_usd'].describe().round(2)"
   ]
  },
  {
   "cell_type": "markdown",
   "metadata": {},
   "source": [
    "В 2022 году заработные платы дата-сайентистов ощутимо больше зарплаты дата-инженеров и по медиане, и по среднему арифметическому.\n",
    "\n",
    "### Соотношение зарплат специалистов Data Scientist в компаниях различных размеров?"
   ]
  },
  {
   "cell_type": "code",
   "execution_count": 515,
   "metadata": {},
   "outputs": [
    {
     "name": "stderr",
     "output_type": "stream",
     "text": [
      "C:\\Users\\user\\AppData\\Local\\Temp\\ipykernel_5272\\1948476356.py:2: SettingWithCopyWarning: \n",
      "A value is trying to be set on a copy of a slice from a DataFrame.\n",
      "Try using .loc[row_indexer,col_indexer] = value instead\n",
      "\n",
      "See the caveats in the documentation: https://pandas.pydata.org/pandas-docs/stable/user_guide/indexing.html#returning-a-view-versus-a-copy\n",
      "  ds_data['company_size']=ds_data['company_size'].astype('category')\n",
      "C:\\Users\\user\\AppData\\Local\\Temp\\ipykernel_5272\\1948476356.py:3: SettingWithCopyWarning: \n",
      "A value is trying to be set on a copy of a slice from a DataFrame.\n",
      "Try using .loc[row_indexer,col_indexer] = value instead\n",
      "\n",
      "See the caveats in the documentation: https://pandas.pydata.org/pandas-docs/stable/user_guide/indexing.html#returning-a-view-versus-a-copy\n",
      "  ds_data['company_size']=ds_data['company_size'].cat.rename_categories({\n"
     ]
    },
    {
     "data": {
      "image/png": "[encoded data removed]",
      "text/plain": [
       "<Figure size 640x480 with 1 Axes>"
      ]
     },
     "metadata": {},
     "output_type": "display_data"
    }
   ],
   "source": [
    "ds_data=data[data['job']=='Data Scientist']\n",
    "ds_data['company_size']=ds_data['company_size'].astype('category')\n",
    "ds_data['company_size']=ds_data['company_size'].cat.rename_categories({\n",
    "    'S':'небольшая',\n",
    "    'M':'средняя',\n",
    "    'L':'крупная'\n",
    "})\n",
    "ax=sns.boxplot(ds_data,x='salary_in_usd',y='company_size',medianprops={'color':'red','linestyle':'--'})\n",
    "ax.set_title('Распределение зарплат Data Scientist  в компаниях различных размеров')\n",
    "ax.set(xlabel='Зарплата', ylabel='Величина компании');"
   ]
  },
  {
   "cell_type": "code",
   "execution_count": 516,
   "metadata": {},
   "outputs": [
    {
     "data": {
      "text/html": [
       "<div>\n",
       "<style scoped>\n",
       "    .dataframe tbody tr th:only-of-type {\n",
       "        vertical-align: middle;\n",
       "    }\n",
       "\n",
       "    .dataframe tbody tr th {\n",
       "        vertical-align: top;\n",
       "    }\n",
       "\n",
       "    .dataframe thead th {\n",
       "        text-align: right;\n",
       "    }\n",
       "</style>\n",
       "<table border=\"1\" class=\"dataframe\">\n",
       "  <thead>\n",
       "    <tr style=\"text-align: right;\">\n",
       "      <th></th>\n",
       "      <th>count</th>\n",
       "      <th>mean</th>\n",
       "      <th>std</th>\n",
       "      <th>min</th>\n",
       "      <th>25%</th>\n",
       "      <th>50%</th>\n",
       "      <th>75%</th>\n",
       "      <th>max</th>\n",
       "    </tr>\n",
       "    <tr>\n",
       "      <th>company_size</th>\n",
       "      <th></th>\n",
       "      <th></th>\n",
       "      <th></th>\n",
       "      <th></th>\n",
       "      <th></th>\n",
       "      <th></th>\n",
       "      <th></th>\n",
       "      <th></th>\n",
       "    </tr>\n",
       "  </thead>\n",
       "  <tbody>\n",
       "    <tr>\n",
       "      <th>крупная</th>\n",
       "      <td>69.0</td>\n",
       "      <td>121955.77</td>\n",
       "      <td>80841.56</td>\n",
       "      <td>13400.0</td>\n",
       "      <td>56256.00</td>\n",
       "      <td>115000.0</td>\n",
       "      <td>157000.00</td>\n",
       "      <td>412000.0</td>\n",
       "    </tr>\n",
       "    <tr>\n",
       "      <th>средняя</th>\n",
       "      <td>82.0</td>\n",
       "      <td>124499.94</td>\n",
       "      <td>57571.25</td>\n",
       "      <td>4000.0</td>\n",
       "      <td>85425.75</td>\n",
       "      <td>130000.0</td>\n",
       "      <td>164418.50</td>\n",
       "      <td>260000.0</td>\n",
       "    </tr>\n",
       "    <tr>\n",
       "      <th>небольшая</th>\n",
       "      <td>28.0</td>\n",
       "      <td>78964.82</td>\n",
       "      <td>79917.35</td>\n",
       "      <td>2859.0</td>\n",
       "      <td>38030.75</td>\n",
       "      <td>66233.5</td>\n",
       "      <td>90309.25</td>\n",
       "      <td>416000.0</td>\n",
       "    </tr>\n",
       "  </tbody>\n",
       "</table>\n",
       "</div>"
      ],
      "text/plain": [
       "              count       mean       std      min       25%       50%  \\\n",
       "company_size                                                            \n",
       "крупная        69.0  121955.77  80841.56  13400.0  56256.00  115000.0   \n",
       "средняя        82.0  124499.94  57571.25   4000.0  85425.75  130000.0   \n",
       "небольшая      28.0   78964.82  79917.35   2859.0  38030.75   66233.5   \n",
       "\n",
       "                    75%       max  \n",
       "company_size                       \n",
       "крупная       157000.00  412000.0  \n",
       "средняя       164418.50  260000.0  \n",
       "небольшая      90309.25  416000.0  "
      ]
     },
     "execution_count": 516,
     "metadata": {},
     "output_type": "execute_result"
    }
   ],
   "source": [
    "ds_data.groupby('company_size')['salary_in_usd'].describe().round(2)"
   ]
  },
  {
   "cell_type": "markdown",
   "metadata": {},
   "source": [
    "Визуально с небольшим отрывом от крупных компаний(более 250 сотрудников) лидируют компании средних размеров(от 50 до 250 сотрудников). А вот небольшие компании увы отстают."
   ]
  },
  {
   "cell_type": "markdown",
   "metadata": {},
   "source": [
    "### Связь между наличием должностей Data Scientist и Data Engineer и размером компании?"
   ]
  },
  {
   "cell_type": "code",
   "execution_count": 517,
   "metadata": {},
   "outputs": [
    {
     "data": {
      "text/plain": [
       "[Text(0.5, 0, 'Размер компании'), Text(0, 0.5, 'Количество компаний')]"
      ]
     },
     "execution_count": 517,
     "metadata": {},
     "output_type": "execute_result"
    },
    {
     "data": {
      "image/png": "[encoded data removed]",
      "text/plain": [
       "<Figure size 640x480 with 1 Axes>"
      ]
     },
     "metadata": {},
     "output_type": "display_data"
    }
   ],
   "source": [
    "data['Data Scientist и Data Engineer в компании']=data['job'].apply(lambda x: 'наличие' if ((x=='Data Scientist') or (x=='Data Engineer')) else 'отсутствие')\n",
    "\n",
    "ax=sns.countplot(data,x=data['company_size'],hue='Data Scientist и Data Engineer в компании')\n",
    "ax.set(xlabel='Размер компании',ylabel='Количество компаний')"
   ]
  },
  {
   "cell_type": "code",
   "execution_count": 518,
   "metadata": {},
   "outputs": [
    {
     "data": {
      "image/png": "[encoded data removed]",
      "text/plain": [
       "<Figure size 640x480 with 2 Axes>"
      ]
     },
     "metadata": {},
     "output_type": "display_data"
    }
   ],
   "source": [
    "cross_tab=pd.crosstab(index=data['company_size'],columns=data['Data Scientist и Data Engineer в компании'])\n",
    "ax=sns.heatmap(cross_tab, annot=True,fmt='.0f',cmap='coolwarm',linewidths=2,linecolor='black')\n",
    "plt.title('Таблица сопряженности')\n",
    "ax.set(ylabel='Размер компании');"
   ]
  },
  {
   "cell_type": "markdown",
   "metadata": {},
   "source": [
    "Согласно данным таблицы компаний со специалистами Data Science и  Data Engineering больше, чем компаний без специалистов. Можно предположить, что компании со специалистами имеют больший потенциал вырасти, чем без специалистов Data Science и Data Engineering. Для определения статистической значимости различий, позднее проведем статистические тесты."
   ]
  },
  {
   "cell_type": "markdown",
   "metadata": {},
   "source": [
    "### Распределение зарплат Data Scietist по опыту работы"
   ]
  },
  {
   "cell_type": "code",
   "execution_count": 519,
   "metadata": {},
   "outputs": [
    {
     "ename": "AttributeError",
     "evalue": "Can only use .cat accessor with a 'category' dtype",
     "output_type": "error",
     "traceback": [
      "\u001b[1;31m---------------------------------------------------------------------------\u001b[0m",
      "\u001b[1;31mAttributeError\u001b[0m                            Traceback (most recent call last)",
      "Cell \u001b[1;32mIn[519], line 2\u001b[0m\n\u001b[0;32m      1\u001b[0m ds_data\u001b[38;5;241m.\u001b[39mloc[:,\u001b[38;5;124m'\u001b[39m\u001b[38;5;124mexperience_level\u001b[39m\u001b[38;5;124m'\u001b[39m]\u001b[38;5;241m=\u001b[39mds_data\u001b[38;5;241m.\u001b[39mloc[:,\u001b[38;5;124m'\u001b[39m\u001b[38;5;124mexperience_level\u001b[39m\u001b[38;5;124m'\u001b[39m]\u001b[38;5;241m.\u001b[39mastype(\u001b[38;5;124m'\u001b[39m\u001b[38;5;124mcategory\u001b[39m\u001b[38;5;124m'\u001b[39m)\n\u001b[1;32m----> 2\u001b[0m ds_data\u001b[38;5;241m.\u001b[39mloc[:,\u001b[38;5;124m'\u001b[39m\u001b[38;5;124mexperience_level\u001b[39m\u001b[38;5;124m'\u001b[39m]\u001b[38;5;241m=\u001b[39m\u001b[43mds_data\u001b[49m\u001b[38;5;241;43m.\u001b[39;49m\u001b[43mloc\u001b[49m\u001b[43m[\u001b[49m\u001b[43m:\u001b[49m\u001b[43m,\u001b[49m\u001b[38;5;124;43m'\u001b[39;49m\u001b[38;5;124;43mexperience_level\u001b[39;49m\u001b[38;5;124;43m'\u001b[39;49m\u001b[43m]\u001b[49m\u001b[38;5;241;43m.\u001b[39;49m\u001b[43mcat\u001b[49m\u001b[38;5;241m.\u001b[39mrename_categories(\n\u001b[0;32m      3\u001b[0m     {\n\u001b[0;32m      4\u001b[0m         \u001b[38;5;124m'\u001b[39m\u001b[38;5;124mEN\u001b[39m\u001b[38;5;124m'\u001b[39m:\u001b[38;5;124m'\u001b[39m\u001b[38;5;124mJunior\u001b[39m\u001b[38;5;124m'\u001b[39m,\n\u001b[0;32m      5\u001b[0m         \u001b[38;5;124m'\u001b[39m\u001b[38;5;124mMI\u001b[39m\u001b[38;5;124m'\u001b[39m:\u001b[38;5;124m'\u001b[39m\u001b[38;5;124mIntermediate\u001b[39m\u001b[38;5;124m'\u001b[39m,\n\u001b[0;32m      6\u001b[0m         \u001b[38;5;124m'\u001b[39m\u001b[38;5;124mSE\u001b[39m\u001b[38;5;124m'\u001b[39m:\u001b[38;5;124m'\u001b[39m\u001b[38;5;124mExpert\u001b[39m\u001b[38;5;124m'\u001b[39m,\n\u001b[0;32m      7\u001b[0m         \u001b[38;5;124m'\u001b[39m\u001b[38;5;124mEX\u001b[39m\u001b[38;5;124m'\u001b[39m:\u001b[38;5;124m'\u001b[39m\u001b[38;5;124mDirector\u001b[39m\u001b[38;5;124m'\u001b[39m\n\u001b[0;32m      8\u001b[0m     }\n\u001b[0;32m      9\u001b[0m )\n\u001b[0;32m     11\u001b[0m ax\u001b[38;5;241m=\u001b[39msns\u001b[38;5;241m.\u001b[39mboxplot(data\u001b[38;5;241m=\u001b[39mds_data,\n\u001b[0;32m     12\u001b[0m             x\u001b[38;5;241m=\u001b[39m\u001b[38;5;124m'\u001b[39m\u001b[38;5;124msalary_in_usd\u001b[39m\u001b[38;5;124m'\u001b[39m,\n\u001b[0;32m     13\u001b[0m             y\u001b[38;5;241m=\u001b[39m\u001b[38;5;124m'\u001b[39m\u001b[38;5;124mexperience_level\u001b[39m\u001b[38;5;124m'\u001b[39m,\n\u001b[1;32m   (...)\u001b[0m\n\u001b[0;32m     16\u001b[0m                 \u001b[38;5;124m'\u001b[39m\u001b[38;5;124mlinestyle\u001b[39m\u001b[38;5;124m'\u001b[39m:\u001b[38;5;124m'\u001b[39m\u001b[38;5;124m--\u001b[39m\u001b[38;5;124m'\u001b[39m,\n\u001b[0;32m     17\u001b[0m                 \u001b[38;5;124m'\u001b[39m\u001b[38;5;124mlinewidth\u001b[39m\u001b[38;5;124m'\u001b[39m:\u001b[38;5;241m2\u001b[39m});\n\u001b[0;32m     18\u001b[0m ax\u001b[38;5;241m.\u001b[39mset_title(\u001b[38;5;124m'\u001b[39m\u001b[38;5;124mРаспределение зарплат Data Scientist по опыту работы \u001b[39m\u001b[38;5;124m'\u001b[39m)\n",
      "File \u001b[1;32mc:\\MY_FOLDER\\Python\\Lib\\site-packages\\pandas\\core\\generic.py:5989\u001b[0m, in \u001b[0;36mNDFrame.__getattr__\u001b[1;34m(self, name)\u001b[0m\n\u001b[0;32m   5982\u001b[0m \u001b[38;5;28;01mif\u001b[39;00m (\n\u001b[0;32m   5983\u001b[0m     name \u001b[38;5;129;01mnot\u001b[39;00m \u001b[38;5;129;01min\u001b[39;00m \u001b[38;5;28mself\u001b[39m\u001b[38;5;241m.\u001b[39m_internal_names_set\n\u001b[0;32m   5984\u001b[0m     \u001b[38;5;129;01mand\u001b[39;00m name \u001b[38;5;129;01mnot\u001b[39;00m \u001b[38;5;129;01min\u001b[39;00m \u001b[38;5;28mself\u001b[39m\u001b[38;5;241m.\u001b[39m_metadata\n\u001b[0;32m   5985\u001b[0m     \u001b[38;5;129;01mand\u001b[39;00m name \u001b[38;5;129;01mnot\u001b[39;00m \u001b[38;5;129;01min\u001b[39;00m \u001b[38;5;28mself\u001b[39m\u001b[38;5;241m.\u001b[39m_accessors\n\u001b[0;32m   5986\u001b[0m     \u001b[38;5;129;01mand\u001b[39;00m \u001b[38;5;28mself\u001b[39m\u001b[38;5;241m.\u001b[39m_info_axis\u001b[38;5;241m.\u001b[39m_can_hold_identifiers_and_holds_name(name)\n\u001b[0;32m   5987\u001b[0m ):\n\u001b[0;32m   5988\u001b[0m     \u001b[38;5;28;01mreturn\u001b[39;00m \u001b[38;5;28mself\u001b[39m[name]\n\u001b[1;32m-> 5989\u001b[0m \u001b[38;5;28;01mreturn\u001b[39;00m \u001b[38;5;28;43mobject\u001b[39;49m\u001b[38;5;241;43m.\u001b[39;49m\u001b[38;5;21;43m__getattribute__\u001b[39;49m\u001b[43m(\u001b[49m\u001b[38;5;28;43mself\u001b[39;49m\u001b[43m,\u001b[49m\u001b[43m \u001b[49m\u001b[43mname\u001b[49m\u001b[43m)\u001b[49m\n",
      "File \u001b[1;32mc:\\MY_FOLDER\\Python\\Lib\\site-packages\\pandas\\core\\accessor.py:224\u001b[0m, in \u001b[0;36mCachedAccessor.__get__\u001b[1;34m(self, obj, cls)\u001b[0m\n\u001b[0;32m    221\u001b[0m \u001b[38;5;28;01mif\u001b[39;00m obj \u001b[38;5;129;01mis\u001b[39;00m \u001b[38;5;28;01mNone\u001b[39;00m:\n\u001b[0;32m    222\u001b[0m     \u001b[38;5;66;03m# we're accessing the attribute of the class, i.e., Dataset.geo\u001b[39;00m\n\u001b[0;32m    223\u001b[0m     \u001b[38;5;28;01mreturn\u001b[39;00m \u001b[38;5;28mself\u001b[39m\u001b[38;5;241m.\u001b[39m_accessor\n\u001b[1;32m--> 224\u001b[0m accessor_obj \u001b[38;5;241m=\u001b[39m \u001b[38;5;28;43mself\u001b[39;49m\u001b[38;5;241;43m.\u001b[39;49m\u001b[43m_accessor\u001b[49m\u001b[43m(\u001b[49m\u001b[43mobj\u001b[49m\u001b[43m)\u001b[49m\n\u001b[0;32m    225\u001b[0m \u001b[38;5;66;03m# Replace the property with the accessor object. Inspired by:\u001b[39;00m\n\u001b[0;32m    226\u001b[0m \u001b[38;5;66;03m# https://www.pydanny.com/cached-property.html\u001b[39;00m\n\u001b[0;32m    227\u001b[0m \u001b[38;5;66;03m# We need to use object.__setattr__ because we overwrite __setattr__ on\u001b[39;00m\n\u001b[0;32m    228\u001b[0m \u001b[38;5;66;03m# NDFrame\u001b[39;00m\n\u001b[0;32m    229\u001b[0m \u001b[38;5;28mobject\u001b[39m\u001b[38;5;241m.\u001b[39m\u001b[38;5;21m__setattr__\u001b[39m(obj, \u001b[38;5;28mself\u001b[39m\u001b[38;5;241m.\u001b[39m_name, accessor_obj)\n",
      "File \u001b[1;32mc:\\MY_FOLDER\\Python\\Lib\\site-packages\\pandas\\core\\arrays\\categorical.py:2445\u001b[0m, in \u001b[0;36mCategoricalAccessor.__init__\u001b[1;34m(self, data)\u001b[0m\n\u001b[0;32m   2444\u001b[0m \u001b[38;5;28;01mdef\u001b[39;00m \u001b[38;5;21m__init__\u001b[39m(\u001b[38;5;28mself\u001b[39m, data) \u001b[38;5;241m-\u001b[39m\u001b[38;5;241m>\u001b[39m \u001b[38;5;28;01mNone\u001b[39;00m:\n\u001b[1;32m-> 2445\u001b[0m     \u001b[38;5;28;43mself\u001b[39;49m\u001b[38;5;241;43m.\u001b[39;49m\u001b[43m_validate\u001b[49m\u001b[43m(\u001b[49m\u001b[43mdata\u001b[49m\u001b[43m)\u001b[49m\n\u001b[0;32m   2446\u001b[0m     \u001b[38;5;28mself\u001b[39m\u001b[38;5;241m.\u001b[39m_parent \u001b[38;5;241m=\u001b[39m data\u001b[38;5;241m.\u001b[39mvalues\n\u001b[0;32m   2447\u001b[0m     \u001b[38;5;28mself\u001b[39m\u001b[38;5;241m.\u001b[39m_index \u001b[38;5;241m=\u001b[39m data\u001b[38;5;241m.\u001b[39mindex\n",
      "File \u001b[1;32mc:\\MY_FOLDER\\Python\\Lib\\site-packages\\pandas\\core\\arrays\\categorical.py:2454\u001b[0m, in \u001b[0;36mCategoricalAccessor._validate\u001b[1;34m(data)\u001b[0m\n\u001b[0;32m   2451\u001b[0m \u001b[38;5;129m@staticmethod\u001b[39m\n\u001b[0;32m   2452\u001b[0m \u001b[38;5;28;01mdef\u001b[39;00m \u001b[38;5;21m_validate\u001b[39m(data):\n\u001b[0;32m   2453\u001b[0m     \u001b[38;5;28;01mif\u001b[39;00m \u001b[38;5;129;01mnot\u001b[39;00m is_categorical_dtype(data\u001b[38;5;241m.\u001b[39mdtype):\n\u001b[1;32m-> 2454\u001b[0m         \u001b[38;5;28;01mraise\u001b[39;00m \u001b[38;5;167;01mAttributeError\u001b[39;00m(\u001b[38;5;124m\"\u001b[39m\u001b[38;5;124mCan only use .cat accessor with a \u001b[39m\u001b[38;5;124m'\u001b[39m\u001b[38;5;124mcategory\u001b[39m\u001b[38;5;124m'\u001b[39m\u001b[38;5;124m dtype\u001b[39m\u001b[38;5;124m\"\u001b[39m)\n",
      "\u001b[1;31mAttributeError\u001b[0m: Can only use .cat accessor with a 'category' dtype"
     ]
    }
   ],
   "source": [
    "ds_data.loc[:,'experience_level']=ds_data.loc[:,'experience_level'].astype('category')\n",
    "ds_data.loc[:,'experience_level']=ds_data.loc[:,'experience_level'].cat.rename_categories(\n",
    "    {\n",
    "        'EN':'Junior',\n",
    "        'MI':'Intermediate',\n",
    "        'SE':'Expert',\n",
    "        'EX':'Director'\n",
    "    }\n",
    ")\n",
    "\n",
    "ax=sns.boxplot(data=ds_data,\n",
    "            x='salary_in_usd',\n",
    "            y='experience_level',\n",
    "            medianprops={\n",
    "                'color':'red',\n",
    "                'linestyle':'--',\n",
    "                'linewidth':2});\n",
    "ax.set_title('Распределение зарплат Data Scientist по опыту работы ')\n",
    "ax.set(xlabel='Заработная плата', ylabel='Опыт работы');"
   ]
  },
  {
   "cell_type": "code",
   "execution_count": null,
   "metadata": {},
   "outputs": [
    {
     "data": {
      "text/html": [
       "<div>\n",
       "<style scoped>\n",
       "    .dataframe tbody tr th:only-of-type {\n",
       "        vertical-align: middle;\n",
       "    }\n",
       "\n",
       "    .dataframe tbody tr th {\n",
       "        vertical-align: top;\n",
       "    }\n",
       "\n",
       "    .dataframe thead th {\n",
       "        text-align: right;\n",
       "    }\n",
       "</style>\n",
       "<table border=\"1\" class=\"dataframe\">\n",
       "  <thead>\n",
       "    <tr style=\"text-align: right;\">\n",
       "      <th></th>\n",
       "      <th>count</th>\n",
       "      <th>mean</th>\n",
       "      <th>std</th>\n",
       "      <th>min</th>\n",
       "      <th>25%</th>\n",
       "      <th>50%</th>\n",
       "      <th>75%</th>\n",
       "      <th>max</th>\n",
       "    </tr>\n",
       "    <tr>\n",
       "      <th>experience_level</th>\n",
       "      <th></th>\n",
       "      <th></th>\n",
       "      <th></th>\n",
       "      <th></th>\n",
       "      <th></th>\n",
       "      <th></th>\n",
       "      <th></th>\n",
       "      <th></th>\n",
       "    </tr>\n",
       "  </thead>\n",
       "  <tbody>\n",
       "    <tr>\n",
       "      <th>Junior</th>\n",
       "      <td>28.0</td>\n",
       "      <td>58590.04</td>\n",
       "      <td>32115.87</td>\n",
       "      <td>4000.0</td>\n",
       "      <td>34920.00</td>\n",
       "      <td>55198.0</td>\n",
       "      <td>87527.25</td>\n",
       "      <td>110037.0</td>\n",
       "    </tr>\n",
       "    <tr>\n",
       "      <th>Director</th>\n",
       "      <td>11.0</td>\n",
       "      <td>196375.82</td>\n",
       "      <td>103378.46</td>\n",
       "      <td>69741.0</td>\n",
       "      <td>135936.00</td>\n",
       "      <td>167875.0</td>\n",
       "      <td>237000.00</td>\n",
       "      <td>416000.0</td>\n",
       "    </tr>\n",
       "    <tr>\n",
       "      <th>Intermediate</th>\n",
       "      <td>68.0</td>\n",
       "      <td>87677.07</td>\n",
       "      <td>50927.20</td>\n",
       "      <td>2859.0</td>\n",
       "      <td>44869.25</td>\n",
       "      <td>81166.5</td>\n",
       "      <td>120586.50</td>\n",
       "      <td>241000.0</td>\n",
       "    </tr>\n",
       "    <tr>\n",
       "      <th>Expert</th>\n",
       "      <td>72.0</td>\n",
       "      <td>153781.42</td>\n",
       "      <td>65319.66</td>\n",
       "      <td>20171.0</td>\n",
       "      <td>114591.75</td>\n",
       "      <td>150000.0</td>\n",
       "      <td>180000.00</td>\n",
       "      <td>412000.0</td>\n",
       "    </tr>\n",
       "  </tbody>\n",
       "</table>\n",
       "</div>"
      ],
      "text/plain": [
       "                  count       mean        std      min        25%       50%  \\\n",
       "experience_level                                                              \n",
       "Junior             28.0   58590.04   32115.87   4000.0   34920.00   55198.0   \n",
       "Director           11.0  196375.82  103378.46  69741.0  135936.00  167875.0   \n",
       "Intermediate       68.0   87677.07   50927.20   2859.0   44869.25   81166.5   \n",
       "Expert             72.0  153781.42   65319.66  20171.0  114591.75  150000.0   \n",
       "\n",
       "                        75%       max  \n",
       "experience_level                       \n",
       "Junior             87527.25  110037.0  \n",
       "Director          237000.00  416000.0  \n",
       "Intermediate      120586.50  241000.0  \n",
       "Expert            180000.00  412000.0  "
      ]
     },
     "execution_count": 361,
     "metadata": {},
     "output_type": "execute_result"
    }
   ],
   "source": [
    "ds_data.groupby('experience_level')['salary_in_usd'].describe().round(2)"
   ]
  },
  {
   "cell_type": "markdown",
   "metadata": {},
   "source": [
    "Видно, что зарплата Data Scientist растут по мере опыта. Чтобы определить статистическую значимость этих различий, позже проведем тесты."
   ]
  },
  {
   "cell_type": "markdown",
   "metadata": {},
   "source": [
    "### Распределение зарплат Data Scientist по типу трудоустройства"
   ]
  },
  {
   "cell_type": "code",
   "execution_count": null,
   "metadata": {},
   "outputs": [
    {
     "name": "stderr",
     "output_type": "stream",
     "text": [
      "C:\\Users\\user\\AppData\\Local\\Temp\\ipykernel_5272\\1209916454.py:1: SettingWithCopyWarning: \n",
      "A value is trying to be set on a copy of a slice from a DataFrame.\n",
      "Try using .loc[row_indexer,col_indexer] = value instead\n",
      "\n",
      "See the caveats in the documentation: https://pandas.pydata.org/pandas-docs/stable/user_guide/indexing.html#returning-a-view-versus-a-copy\n",
      "  ds_data['employment_type']=ds_data['employment_type'].astype('category')\n",
      "C:\\Users\\user\\AppData\\Local\\Temp\\ipykernel_5272\\1209916454.py:2: SettingWithCopyWarning: \n",
      "A value is trying to be set on a copy of a slice from a DataFrame.\n",
      "Try using .loc[row_indexer,col_indexer] = value instead\n",
      "\n",
      "See the caveats in the documentation: https://pandas.pydata.org/pandas-docs/stable/user_guide/indexing.html#returning-a-view-versus-a-copy\n",
      "  ds_data['employment_type']=ds_data['employment_type'].cat.rename_categories(\n"
     ]
    },
    {
     "data": {
      "image/png": "[encoded data removed]",
      "text/plain": [
       "<Figure size 1200x400 with 1 Axes>"
      ]
     },
     "metadata": {},
     "output_type": "display_data"
    }
   ],
   "source": [
    "ds_data['employment_type']=ds_data['employment_type'].astype('category')\n",
    "ds_data['employment_type']=ds_data['employment_type'].cat.rename_categories(\n",
    "    {\n",
    "        'PT':'неполный рабочий день',\n",
    "        'FT':'полный рабочий день',\n",
    "        'CT':'контракт',\n",
    "        'FL':'фриланс',\n",
    "    }\n",
    ")\n",
    "\n",
    "fig,ax=plt.subplots(figsize=(12,4))\n",
    "ax=sns.boxplot(ds_data,x='employment_type',y='salary_in_usd')\n",
    "ax.set_title('Распределение зарплат Data Scientist по типу трудоустройства')\n",
    "ax.set(xlabel='Тип трудоустройства',ylabel='Зарплата');"
   ]
  },
  {
   "cell_type": "code",
   "execution_count": null,
   "metadata": {},
   "outputs": [
    {
     "data": {
      "text/html": [
       "<div>\n",
       "<style scoped>\n",
       "    .dataframe tbody tr th:only-of-type {\n",
       "        vertical-align: middle;\n",
       "    }\n",
       "\n",
       "    .dataframe tbody tr th {\n",
       "        vertical-align: top;\n",
       "    }\n",
       "\n",
       "    .dataframe thead th {\n",
       "        text-align: right;\n",
       "    }\n",
       "</style>\n",
       "<table border=\"1\" class=\"dataframe\">\n",
       "  <thead>\n",
       "    <tr style=\"text-align: right;\">\n",
       "      <th></th>\n",
       "      <th>count</th>\n",
       "      <th>mean</th>\n",
       "      <th>std</th>\n",
       "      <th>min</th>\n",
       "      <th>25%</th>\n",
       "      <th>50%</th>\n",
       "      <th>75%</th>\n",
       "      <th>max</th>\n",
       "    </tr>\n",
       "    <tr>\n",
       "      <th>employment_type</th>\n",
       "      <th></th>\n",
       "      <th></th>\n",
       "      <th></th>\n",
       "      <th></th>\n",
       "      <th></th>\n",
       "      <th></th>\n",
       "      <th></th>\n",
       "      <th></th>\n",
       "    </tr>\n",
       "  </thead>\n",
       "  <tbody>\n",
       "    <tr>\n",
       "      <th>контракт</th>\n",
       "      <td>2.0</td>\n",
       "      <td>260500.00</td>\n",
       "      <td>219910.21</td>\n",
       "      <td>105000.0</td>\n",
       "      <td>182750.00</td>\n",
       "      <td>260500.0</td>\n",
       "      <td>338250.00</td>\n",
       "      <td>416000.0</td>\n",
       "    </tr>\n",
       "    <tr>\n",
       "      <th>фриланс</th>\n",
       "      <td>1.0</td>\n",
       "      <td>100000.00</td>\n",
       "      <td>NaN</td>\n",
       "      <td>100000.0</td>\n",
       "      <td>100000.00</td>\n",
       "      <td>100000.0</td>\n",
       "      <td>100000.00</td>\n",
       "      <td>100000.0</td>\n",
       "    </tr>\n",
       "    <tr>\n",
       "      <th>полный рабочий день</th>\n",
       "      <td>174.0</td>\n",
       "      <td>115472.93</td>\n",
       "      <td>69370.20</td>\n",
       "      <td>2859.0</td>\n",
       "      <td>61781.75</td>\n",
       "      <td>109500.0</td>\n",
       "      <td>157900.00</td>\n",
       "      <td>412000.0</td>\n",
       "    </tr>\n",
       "    <tr>\n",
       "      <th>неполный рабочий день</th>\n",
       "      <td>2.0</td>\n",
       "      <td>60834.50</td>\n",
       "      <td>55388.38</td>\n",
       "      <td>21669.0</td>\n",
       "      <td>41251.75</td>\n",
       "      <td>60834.5</td>\n",
       "      <td>80417.25</td>\n",
       "      <td>100000.0</td>\n",
       "    </tr>\n",
       "  </tbody>\n",
       "</table>\n",
       "</div>"
      ],
      "text/plain": [
       "                       count       mean        std       min        25%  \\\n",
       "employment_type                                                           \n",
       "контракт                 2.0  260500.00  219910.21  105000.0  182750.00   \n",
       "фриланс                  1.0  100000.00        NaN  100000.0  100000.00   \n",
       "полный рабочий день    174.0  115472.93   69370.20    2859.0   61781.75   \n",
       "неполный рабочий день    2.0   60834.50   55388.38   21669.0   41251.75   \n",
       "\n",
       "                            50%        75%       max  \n",
       "employment_type                                       \n",
       "контракт               260500.0  338250.00  416000.0  \n",
       "фриланс                100000.0  100000.00  100000.0  \n",
       "полный рабочий день    109500.0  157900.00  412000.0  \n",
       "неполный рабочий день   60834.5   80417.25  100000.0  "
      ]
     },
     "execution_count": 499,
     "metadata": {},
     "output_type": "execute_result"
    }
   ],
   "source": [
    "ds_data.groupby('employment_type')['salary_in_usd'].describe().round(2)"
   ]
  },
  {
   "cell_type": "markdown",
   "metadata": {},
   "source": [
    "Согласно графику и таблице видно, то почти все Data Scientist'ы работают полный рабочий день. Не вижу смысла проводить статистические тесты из-за малого количества данных по всем типам трудоустройства, кроме полного рабочего дня. И поэтому считаю признак 'employment_type' неинформативным"
   ]
  },
  {
   "cell_type": "code",
   "execution_count": 520,
   "metadata": {},
   "outputs": [],
   "source": [
    "del data['employment_type']"
   ]
  },
  {
   "cell_type": "markdown",
   "metadata": {},
   "source": [
    "# Статистический анализ данных"
   ]
  },
  {
   "cell_type": "code",
   "execution_count": null,
   "metadata": {},
   "outputs": [],
   "source": [
    "# функция для принятия решения о нормальности\n",
    "def decision_normality(p):\n",
    "    print('p-value = {:.3f}'.format(p))\n",
    "    if p <= alpha:\n",
    "        print('p-значение меньше, чем заданный уровень значимости {:.2f}. Распределение отлично от нормального'.format(alpha))\n",
    "    else:\n",
    "        print('p-значение больше, чем заданный уровень значимости {:.2f}. Распределение является нормальным'.format(alpha))\n",
    "\n",
    "\n",
    "# функция для принятия решения об отклонении нулевой гипотезы\n",
    "def decision_hypothesis(p):\n",
    "    print('p-value = {:.3f}'.format(p))\n",
    "    if p <= alpha:\n",
    "        print('p-значение меньше, чем заданный уровень значимости {:.2f}. Отвергаем нулевую гипотезу в пользу альтернативной.'.format(alpha))\n",
    "    else:\n",
    "        print('p-значение больше, чем заданный уровень значимости {:.2f}. У нас нет оснований отвергнуть нулевую гипотезу.'.format(alpha))\n",
    "      "
   ]
  },
  {
   "cell_type": "markdown",
   "metadata": {},
   "source": [
    "### Наблюдается ли ежегодный рост зарплат у специалистов Data Scientist?\n",
    "\n",
    "Для ответа на вопрос сначала уберем данные, не касающиеся специалистов Data Scientist. \n",
    "\n",
    "Имеются 3 количественных независимых группы с нормальным распределением.\n",
    "\n",
    "Сформулируем пулевую и альтернативную гипотезы\n",
    "\n",
    "*Нулевая гипотеза* ($H_0$): размеры зарплат по годам не отличается\n",
    "\n",
    "<center> m1=m2=m3 </center>\n",
    "\n",
    "*Альтернативная гипотеза* ($H_1$): размеры зарплат по годам отличается\n",
    "\n",
    "<center> m1!=m2!=m3 </center>"
   ]
  },
  {
   "cell_type": "code",
   "execution_count": null,
   "metadata": {},
   "outputs": [
    {
     "name": "stdout",
     "output_type": "stream",
     "text": [
      "p-value = 0.000\n",
      "p-значение меньше, чем заданный уровень значимости 0.05. Распределение отлично от нормального\n",
      "p-value = 0.000\n",
      "p-значение меньше, чем заданный уровень значимости 0.05. Распределение отлично от нормального\n",
      "p-value = 0.038\n",
      "p-значение меньше, чем заданный уровень значимости 0.05. Распределение отлично от нормального\n",
      "По тесту Краскела \t p-value=0.000\n",
      "p-value = 0.000\n",
      "p-значение меньше, чем заданный уровень значимости 0.05. Отвергаем нулевую гипотезу в пользу альтернативной.\n"
     ]
    }
   ],
   "source": [
    "from scipy import stats\n",
    "\n",
    "year_2020=ds_data[ds_data['work_year']==2020]['salary_in_usd']\n",
    "year_2021=ds_data[ds_data['work_year']==2021]['salary_in_usd']\n",
    "year_2022=ds_data[ds_data['work_year']==2022]['salary_in_usd']\n",
    "year_list=[year_2020,year_2021,year_2022]\n",
    "\n",
    "#проводим тест на нормальность\n",
    "for i in year_list:\n",
    "    result=stats.shapiro(i)\n",
    "    decision_normality(result[1])\n",
    "\n",
    "_,p=stats.kruskal(year_2020,year_2021,year_2022)\n",
    "print('По тесту Краскела \\t p-value={:.3f}'.format(p))\n",
    "result=decision_hypothesis(p)"
   ]
  },
  {
   "cell_type": "markdown",
   "metadata": {},
   "source": [
    "Тест показал на неравенство зарплат. Отсюда вывод, что необходимо провести 2 теста:\n",
    "+ тест 2020 и 2021 годов;\n",
    "+ тест 2021 и 2022 годов.\n",
    "\n",
    "*Нулевая гипотеза* ($H_0$): зарплаты 2021 (m2) года меньше или равны зарплатам 2020 (m1) года и/или зарплаты 2022 года (m3) меньше или равны зарплатам 2021 года (m2). \n",
    "\n",
    "<center> m1 >= m2 </center>\n",
    "<center> m2 >= m3 </center>\n",
    "\n",
    "*Альтернативная гипотеза* ($H_1$): зарплата 2021 года (m2) больше зарплат 2020 года (m1), также зарплата 2022 (m3) года больше зарплат 2021 года (m2).\n",
    "\n",
    "<center> m1 < m2 </center>\n",
    "<center> m2 < m3 </center>\n",
    "\n",
    "Если хоть один из тестов подтвердит нулевую гипотезу, альтернативная гипотеза будет отвергнута."
   ]
  },
  {
   "cell_type": "code",
   "execution_count": null,
   "metadata": {},
   "outputs": [
    {
     "name": "stdout",
     "output_type": "stream",
     "text": [
      "Тест на 2020 и 2021 годы\n",
      "p-value = 0.455\n",
      "p-значение больше, чем заданный уровень значимости 0.05. У нас нет оснований отвергнуть нулевую гипотезу.\n",
      "\n",
      "Тест на 2021 и 2022 годы\n",
      "p-value = 0.000\n",
      "p-значение меньше, чем заданный уровень значимости 0.05. Отвергаем нулевую гипотезу в пользу альтернативной.\n"
     ]
    }
   ],
   "source": [
    "#тест независимых данных с ненормальным распределением\n",
    "print('Тест на 2020 и 2021 годы')\n",
    "_,p=stats.mannwhitneyu(year_2021,year_2020,alternative='greater')\n",
    "result=decision_hypothesis(p)\n",
    "\n",
    "print('\\nТест на 2021 и 2022 годы')\n",
    "_,p=stats.mannwhitneyu(year_2022,year_2021,alternative='greater')\n",
    "result=decision_hypothesis(p)\n"
   ]
  },
  {
   "cell_type": "markdown",
   "metadata": {},
   "source": [
    "***Наблюдается ли ежегодный рост зарплат у специалистов Data Scientist?*** Рост зарплат у специалистов Data Scientist наблюдался при сравнении 2021 и 2022 годов, однако отсутствовал при изучении 2020 и 2021 годов.\n",
    "\n",
    "Вывод: нет оснований утверждать про ежегодный рост зарплат специалистов Data Scientist."
   ]
  },
  {
   "cell_type": "markdown",
   "metadata": {},
   "source": [
    "### Как соотносятся зарплаты Data Scientist и Data Engineer в 2022 году?"
   ]
  },
  {
   "cell_type": "code",
   "execution_count": null,
   "metadata": {},
   "outputs": [
    {
     "name": "stdout",
     "output_type": "stream",
     "text": [
      "p-value = 0.016\n",
      "p-значение меньше, чем заданный уровень значимости 0.05. Распределение отлично от нормального\n",
      "p-value = 0.038\n",
      "p-значение меньше, чем заданный уровень значимости 0.05. Распределение отлично от нормального\n"
     ]
    },
    {
     "data": {
      "text/plain": [
       "[None, None]"
      ]
     },
     "execution_count": 365,
     "metadata": {},
     "output_type": "execute_result"
    }
   ],
   "source": [
    "ds_de_data2022\n",
    "de_2022=ds_de_data2022.loc[data['job']=='Data Engineer','salary_in_usd']\n",
    "ds_2022=ds_de_data2022[ds_de_data2022['job']=='Data Scientist']['salary_in_usd']\n",
    "\n",
    "[decision_normality(stats.shapiro(i)[1]) for i in [de_2022,ds_2022]]"
   ]
  },
  {
   "cell_type": "markdown",
   "metadata": {},
   "source": [
    "На графике \"Распределение зарплат Data Scientist и  Data Engineer\" зарплата Data Scientist больше. Проверим на статистических тестах.\n",
    "\n",
    "*Нулевая гипотеза* ($H_0$): зарплата Data Scientist (m2) меньше или равна зарплате Data Engineer (m1).\n",
    "\n",
    "<center> m1 >= m2 </center>\n",
    "\n",
    "*Альтернативная гипотеза* ($H_1$): зарплата Data Scientist (m2) больше зарплаты Data Engineer (m1).\n",
    "\n",
    "<center> m1 < m2 </center>\n",
    "\n",
    "Данные независимы и распределены ненормально."
   ]
  },
  {
   "cell_type": "code",
   "execution_count": null,
   "metadata": {},
   "outputs": [
    {
     "name": "stdout",
     "output_type": "stream",
     "text": [
      "p-value = 0.027\n",
      "p-значение меньше, чем заданный уровень значимости 0.05. Отвергаем нулевую гипотезу в пользу альтернативной.\n"
     ]
    }
   ],
   "source": [
    "result=stats.mannwhitneyu(ds_2022,de_2022,alternative='greater')\n",
    "decision_hypothesis(result[1])"
   ]
  },
  {
   "cell_type": "markdown",
   "metadata": {},
   "source": [
    "Вывод: в 2022 году зарплаты Data Scientist больше зарплат Data Engineer."
   ]
  },
  {
   "cell_type": "markdown",
   "metadata": {},
   "source": [
    "## Как соотносятся зарплаты специалистов Data Scientist в компаниях различных размеров?\n",
    "\n",
    "*Нулевая гипотеза* ($H_0$): зарплаты Data Scientist не имеют разницу в зависимости от величины компании .\n",
    "\n",
    "*Альтернативная гипотеза* ($H_1$): зарплаты Data Scientist имеют разницу в зависимости от величины компании."
   ]
  },
  {
   "cell_type": "code",
   "execution_count": null,
   "metadata": {},
   "outputs": [
    {
     "name": "stdout",
     "output_type": "stream",
     "text": [
      "p-value = 0.000\n",
      "p-значение меньше, чем заданный уровень значимости 0.05. Распределение отлично от нормального\n",
      "p-value = 0.785\n",
      "p-значение больше, чем заданный уровень значимости 0.05. Распределение является нормальным\n",
      "p-value = 0.000\n",
      "p-значение меньше, чем заданный уровень значимости 0.05. Распределение отлично от нормального\n",
      "\n",
      "p-value = 0.000\n",
      "p-значение меньше, чем заданный уровень значимости 0.05. Отвергаем нулевую гипотезу в пользу альтернативной.\n"
     ]
    }
   ],
   "source": [
    "ds_data\n",
    "s_size=ds_data.loc[ds_data['company_size']=='небольшая']['salary_in_usd']\n",
    "m_size=ds_data.loc[ds_data['company_size']=='средняя']['salary_in_usd']\n",
    "l_size=ds_data.loc[ds_data['company_size']=='крупная']['salary_in_usd']\n",
    "\n",
    "[decision_normality(stats.shapiro(i)[1]) for i in [s_size,m_size,l_size]]\n",
    "print()\n",
    "decision_hypothesis(stats.kruskal(s_size,m_size,l_size)[1])\n"
   ]
  },
  {
   "cell_type": "markdown",
   "metadata": {},
   "source": [
    "Принимаем альтернативную гипотезу, разница в зарплатах присутствует. Теперь посмотрим глубже. Будем отталкиваться от графика **\"Распределение зарплат Data Scientist в компаниях различных размеров\"**\n",
    "\n",
    "Сравним отдельно:\n",
    "+ небольшую и среднюю;\n",
    "+ небольшую и крупную;\n",
    "+ среднюю и крупную.\n",
    "\n",
    "По каждой из трех групп запустим U-критерий Манна-Уитни\n",
    "Нулевая гипотеза:\n",
    "+ зарплаты в средней меньше или равна зарплате в небольшой;\n",
    "+ зарплаты в крупной меньше или равна зарплате в небольшой;\n",
    "+ зарплаты в средней меньше или равна зарплате в крупной;\n",
    "\n",
    "Альтернативная гипотез:\n",
    "+ зарплаты в средней больше, чем в небольшой;\n",
    "+ зарплаты в крупной больше, чем в небольшой;\n",
    "+ зарплаты в средней больше, чем в большой;\n"
   ]
  },
  {
   "cell_type": "code",
   "execution_count": null,
   "metadata": {},
   "outputs": [
    {
     "name": "stdout",
     "output_type": "stream",
     "text": [
      "p-value = 0.000\n",
      "p-значение меньше, чем заданный уровень значимости 0.05. Отвергаем нулевую гипотезу в пользу альтернативной.\n",
      "p-value = 0.001\n",
      "p-значение меньше, чем заданный уровень значимости 0.05. Отвергаем нулевую гипотезу в пользу альтернативной.\n",
      "p-value = 0.145\n",
      "p-значение больше, чем заданный уровень значимости 0.05. У нас нет оснований отвергнуть нулевую гипотезу.\n"
     ]
    }
   ],
   "source": [
    "decision_hypothesis(stats.mannwhitneyu(m_size,s_size,alternative='greater')[1])\n",
    "\n",
    "decision_hypothesis(stats.mannwhitneyu(l_size,s_size,alternative='greater')[1])\n",
    "\n",
    "decision_hypothesis(stats.mannwhitneyu(m_size,l_size,alternative='greater')[1])\n"
   ]
  },
  {
   "cell_type": "markdown",
   "metadata": {},
   "source": [
    "Вывод: определенно, зарплаты Data Scientist зависят от размеров компании. В небольших компаниях (до 50 сотрудников) Data scientist зарабатывает меньше, чем в средних и крупных компаниях. Однако ж нет оснований утверждать, что зарплаты средних (от 50 до 250 сотрудников) компаний отличаются от зарплат крупных ( более 250 сотрудников) компаний."
   ]
  },
  {
   "cell_type": "markdown",
   "metadata": {},
   "source": [
    "## Есть ли связь между наличием должностей Data Scientist и Data Engineer и размером компании?\n",
    "\n",
    "*Нулевая гипотеза* ($H_0$): зарплата Data Scientist (m2) меньше или равна зарплате Data Engineer (m1).\n",
    "\n",
    "*Альтернативная гипотеза* ($H_1$): имеется связь между наличием должностей Data Scientist и Data Engineer и размером компании."
   ]
  },
  {
   "cell_type": "code",
   "execution_count": null,
   "metadata": {},
   "outputs": [
    {
     "name": "stdout",
     "output_type": "stream",
     "text": [
      "p-value = 0.310\n",
      "p-значение больше, чем заданный уровень значимости 0.05. У нас нет оснований отвергнуть нулевую гипотезу.\n"
     ]
    },
    {
     "data": {
      "text/html": [
       "<div>\n",
       "<style scoped>\n",
       "    .dataframe tbody tr th:only-of-type {\n",
       "        vertical-align: middle;\n",
       "    }\n",
       "\n",
       "    .dataframe tbody tr th {\n",
       "        vertical-align: top;\n",
       "    }\n",
       "\n",
       "    .dataframe thead th {\n",
       "        text-align: right;\n",
       "    }\n",
       "</style>\n",
       "<table border=\"1\" class=\"dataframe\">\n",
       "  <thead>\n",
       "    <tr style=\"text-align: right;\">\n",
       "      <th>Data Scientist и Data Engineer в компании</th>\n",
       "      <th>наличие</th>\n",
       "      <th>отсутствие</th>\n",
       "    </tr>\n",
       "    <tr>\n",
       "      <th>company_size</th>\n",
       "      <th></th>\n",
       "      <th></th>\n",
       "    </tr>\n",
       "  </thead>\n",
       "  <tbody>\n",
       "    <tr>\n",
       "      <th>L</th>\n",
       "      <td>118</td>\n",
       "      <td>75</td>\n",
       "    </tr>\n",
       "    <tr>\n",
       "      <th>M</th>\n",
       "      <td>170</td>\n",
       "      <td>120</td>\n",
       "    </tr>\n",
       "    <tr>\n",
       "      <th>S</th>\n",
       "      <td>42</td>\n",
       "      <td>40</td>\n",
       "    </tr>\n",
       "  </tbody>\n",
       "</table>\n",
       "</div>"
      ],
      "text/plain": [
       "Data Scientist и Data Engineer в компании  наличие  отсутствие\n",
       "company_size                                                  \n",
       "L                                              118          75\n",
       "M                                              170         120\n",
       "S                                               42          40"
      ]
     },
     "metadata": {},
     "output_type": "display_data"
    }
   ],
   "source": [
    "table=pd.crosstab(data['company_size'],data['Data Scientist и Data Engineer в компании'])\n",
    "_,p,_,_=stats.chi2_contingency(table)\n",
    "decision_hypothesis(p)\n",
    "display(table)"
   ]
  },
  {
   "cell_type": "markdown",
   "metadata": {},
   "source": [
    "Согласно критерию хи-квадрат связи между наличием должностей Data Scientist и Data Engineer нет."
   ]
  },
  {
   "cell_type": "markdown",
   "metadata": {},
   "source": [
    "## Распределение зарплат Data Scientist по опыту работы\n",
    "\n",
    "*Нулевая гипотеза* ($H_0$): зарплаты Data Scientist не отличаются в зависимости от опыта работы.\n",
    "\n",
    "*Альтернативная гипотеза* ($H_1$): зарплаты Data Scientist отличаются в зависимости от опыта работы."
   ]
  },
  {
   "cell_type": "code",
   "execution_count": null,
   "metadata": {},
   "outputs": [
    {
     "name": "stdout",
     "output_type": "stream",
     "text": [
      "\n",
      "Для опыта работы Intermediate\n",
      "p-value = 0.070\n",
      "p-значение больше, чем заданный уровень значимости 0.05. Распределение является нормальным\n",
      "\n",
      "Для опыта работы Expert\n",
      "p-value = 0.000\n",
      "p-значение меньше, чем заданный уровень значимости 0.05. Распределение отлично от нормального\n",
      "\n",
      "Для опыта работы Junior\n",
      "p-value = 0.252\n",
      "p-значение больше, чем заданный уровень значимости 0.05. Распределение является нормальным\n",
      "\n",
      "Для опыта работы Director\n",
      "p-value = 0.418\n",
      "p-значение больше, чем заданный уровень значимости 0.05. Распределение является нормальным\n"
     ]
    }
   ],
   "source": [
    "ds_data.loc[:,'experience_level']=ds_data.loc[:,'experience_level'].astype('object')\n",
    "filter_data=ds_data.loc[:,['experience_level','salary_in_usd']]\n",
    "experience_list=list(filter_data['experience_level'].unique())\n",
    "\n",
    "for i in experience_list:\n",
    "    need_data=filter_data[filter_data['experience_level']==i]['salary_in_usd']\n",
    "    result=stats.shapiro(need_data)\n",
    "    print('\\nДля опыта работы {}'.format(i))\n",
    "    decision_normality(result[1])"
   ]
  },
  {
   "cell_type": "code",
   "execution_count": null,
   "metadata": {},
   "outputs": [
    {
     "name": "stdout",
     "output_type": "stream",
     "text": [
      "p-value = 0.000\n",
      "p-значение меньше, чем заданный уровень значимости 0.05. Отвергаем нулевую гипотезу в пользу альтернативной.\n"
     ]
    }
   ],
   "source": [
    "data_intermediate=list(filter_data[ds_data['experience_level']=='Intermediate']['salary_in_usd'])\n",
    "data_expert=list(filter_data[ds_data['experience_level']=='Expert']['salary_in_usd'])\n",
    "data_junior=list(filter_data[ds_data['experience_level']=='Junior']['salary_in_usd'])\n",
    "data_director=list(filter_data[ds_data['experience_level']=='Director']['salary_in_usd'])\n",
    "\n",
    "_,p=stats.kruskal(data_intermediate,data_expert,data_junior,data_director)\n",
    "decision_hypothesis(p)"
   ]
  },
  {
   "cell_type": "markdown",
   "metadata": {},
   "source": [
    "Вывод: согласно статистическим тестам зарплаты Data Science отличаются в зависимости от опыта работы"
   ]
  }
 ],
 "metadata": {
  "kernelspec": {
   "display_name": "Python 3",
   "language": "python",
   "name": "python3"
  },
  "language_info": {
   "codemirror_mode": {
    "name": "ipython",
    "version": 3
   },
   "file_extension": ".py",
   "mimetype": "text/x-python",
   "name": "python",
   "nbconvert_exporter": "python",
   "pygments_lexer": "ipython3",
   "version": "3.11.4"
  }
 },
 "nbformat": 4,
 "nbformat_minor": 2
}
