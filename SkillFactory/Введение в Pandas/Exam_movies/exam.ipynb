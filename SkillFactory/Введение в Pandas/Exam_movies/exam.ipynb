{
 "cells": [
  {
   "cell_type": "code",
   "execution_count": 103,
   "metadata": {},
   "outputs": [
    {
     "data": {
      "text/plain": [
       "year_rating\n",
       "1996    3.228571\n",
       "1997    3.409091\n",
       "1998    3.000000\n",
       "1999    3.606061\n",
       "2000    3.141291\n",
       "2001    3.318408\n",
       "2002    3.198556\n",
       "2003    3.120066\n",
       "2004    3.356877\n",
       "2005    2.963325\n",
       "2006    3.347534\n",
       "2007    2.928187\n",
       "2008    3.426667\n",
       "2009    3.273292\n",
       "2010    3.179825\n",
       "2011    3.232877\n",
       "2012    3.478477\n",
       "2013    3.489474\n",
       "2014    3.271429\n",
       "2015    3.106183\n",
       "2016    3.373431\n",
       "2017    2.852668\n",
       "2018    3.121296\n",
       "Name: Comedy, dtype: float64"
      ]
     },
     "execution_count": 103,
     "metadata": {},
     "output_type": "execute_result"
    }
   ],
   "source": [
    "from exam_code import get_year_release\n",
    "import pandas as pd\n",
    "\n",
    "original_data=pd.read_csv('ratings_movies.csv', sep=',')\n",
    "data=original_data.copy()\n",
    "\n",
    "data['year_release']=data['title'].apply(get_year_release)\n",
    "\n",
    "#Какой пользователь (userId) посмотрел наибольшее количество различных (уникальных) комбинаций жанров (genres) фильмов\n",
    "data.groupby('userId')['genres'].agg(\n",
    "    ['nunique', set]\n",
    ").sort_values('nunique',\n",
    "              ascending=False)\n",
    "\n",
    "#Найдите пользователя, который выставил наименьшее количество оценок, но его средняя оценка фильмам наибольшая.\n",
    "data.groupby('userId')['rating'].agg(\n",
    "    ['nunique', 'mean']\n",
    ").sort_values(by=['nunique','mean'],\n",
    "              ascending=[True,False])\n",
    "\n",
    "#Найдите сочетание жанров (genres) за !2018 год, которое имеет наибольший средний рейтинг (среднее по столбцу rating)\n",
    "# и при этом число выставленных ему оценок (количество значений в столбце rating) больше 10.\n",
    "mask=data['year_release']==2018\n",
    "data2=data[mask]\n",
    "data3=data2.loc[:,['rating','genres']]\n",
    "data3.groupby('genres')['rating'].agg(\n",
    "    ['mean', 'count']\n",
    ").sort_values(by='mean',\n",
    "              ascending=False)\n",
    "\n",
    "#Создайте сводную таблицу, которая иллюстрирует зависимость среднего рейтинга фильма от года выставления оценки и жанра\n",
    "data['date']=pd.to_datetime(data['date'])\n",
    "data['year_rating']=data['date'].dt.year\n",
    "pivot_data=data.pivot_table(\n",
    "    values='rating',\n",
    "    index='genres',\n",
    "    columns='year_rating',\n",
    "    fill_value=0\n",
    ")\n",
    "#Среди сочетаний жанров, получивших наивысшую среднюю оценку в 2018 году, есть сочетание Animation|Children|Mystery.\n",
    "pivot_data[2018].sort_values(ascending=False)\n",
    "\n",
    "#Для жанра Comedy прослеживается тенденция падения рейтинга с каждым годом (с 1996 по 2018).\n",
    "pivot_data.loc['Comedy',:]"
   ]
  }
 ],
 "metadata": {
  "kernelspec": {
   "display_name": "Python 3",
   "language": "python",
   "name": "python3"
  },
  "language_info": {
   "codemirror_mode": {
    "name": "ipython",
    "version": 3
   },
   "file_extension": ".py",
   "mimetype": "text/x-python",
   "name": "python",
   "nbconvert_exporter": "python",
   "pygments_lexer": "ipython3",
   "version": "3.11.4"
  },
  "orig_nbformat": 4
 },
 "nbformat": 4,
 "nbformat_minor": 2
}
