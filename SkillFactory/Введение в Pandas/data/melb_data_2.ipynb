{
 "cells": [
  {
   "cell_type": "code",
   "execution_count": 1,
   "metadata": {},
   "outputs": [
    {
     "ename": "ImportError",
     "evalue": "Unable to import required dependencies:\nnumpy: \n\nIMPORTANT: PLEASE READ THIS FOR ADVICE ON HOW TO SOLVE THIS ISSUE!\n\nImporting the numpy C-extensions failed. This error can happen for\nmany reasons, often due to issues with your setup or how NumPy was\ninstalled.\n\nWe have compiled some common reasons and troubleshooting tips at:\n\n    https://numpy.org/devdocs/user/troubleshooting-importerror.html\n\nPlease note and check the following:\n\n  * The Python version is: Python3.11 from \"c:\\MY_FOLDER\\Python\\python.exe\"\n  * The NumPy version is: \"1.24.3\"\n\nand make sure that they are the versions you expect.\nPlease carefully study the documentation linked above for further help.\n\nOriginal error was: No module named 'numpy.core._multiarray_umath'\n",
     "output_type": "error",
     "traceback": [
      "\u001b[1;31m---------------------------------------------------------------------------\u001b[0m",
      "\u001b[1;31mImportError\u001b[0m                               Traceback (most recent call last)",
      "Cell \u001b[1;32mIn[1], line 1\u001b[0m\n\u001b[1;32m----> 1\u001b[0m \u001b[39mimport\u001b[39;00m \u001b[39mpandas\u001b[39;00m \u001b[39mas\u001b[39;00m \u001b[39mpd\u001b[39;00m\n\u001b[0;32m      2\u001b[0m original_data\u001b[39m=\u001b[39mpd\u001b[39m.\u001b[39mread_csv(\u001b[39m'\u001b[39m\u001b[39mmelb_data_fe.csv\u001b[39m\u001b[39m'\u001b[39m, sep\u001b[39m=\u001b[39m\u001b[39m'\u001b[39m\u001b[39m,\u001b[39m\u001b[39m'\u001b[39m)\n\u001b[0;32m      3\u001b[0m melb_df\u001b[39m=\u001b[39moriginal_data\u001b[39m.\u001b[39mcopy()\n",
      "File \u001b[1;32mc:\\MY_FOLDER\\Python\\Lib\\site-packages\\pandas\\__init__.py:16\u001b[0m\n\u001b[0;32m     13\u001b[0m         _missing_dependencies\u001b[39m.\u001b[39mappend(\u001b[39mf\u001b[39m\u001b[39m\"\u001b[39m\u001b[39m{\u001b[39;00m_dependency\u001b[39m}\u001b[39;00m\u001b[39m: \u001b[39m\u001b[39m{\u001b[39;00m_e\u001b[39m}\u001b[39;00m\u001b[39m\"\u001b[39m)\n\u001b[0;32m     15\u001b[0m \u001b[39mif\u001b[39;00m _missing_dependencies:  \u001b[39m# pragma: no cover\u001b[39;00m\n\u001b[1;32m---> 16\u001b[0m     \u001b[39mraise\u001b[39;00m \u001b[39mImportError\u001b[39;00m(\n\u001b[0;32m     17\u001b[0m         \u001b[39m\"\u001b[39m\u001b[39mUnable to import required dependencies:\u001b[39m\u001b[39m\\n\u001b[39;00m\u001b[39m\"\u001b[39m \u001b[39m+\u001b[39m \u001b[39m\"\u001b[39m\u001b[39m\\n\u001b[39;00m\u001b[39m\"\u001b[39m\u001b[39m.\u001b[39mjoin(_missing_dependencies)\n\u001b[0;32m     18\u001b[0m     )\n\u001b[0;32m     19\u001b[0m \u001b[39mdel\u001b[39;00m _hard_dependencies, _dependency, _missing_dependencies\n\u001b[0;32m     21\u001b[0m \u001b[39m# numpy compat\u001b[39;00m\n",
      "\u001b[1;31mImportError\u001b[0m: Unable to import required dependencies:\nnumpy: \n\nIMPORTANT: PLEASE READ THIS FOR ADVICE ON HOW TO SOLVE THIS ISSUE!\n\nImporting the numpy C-extensions failed. This error can happen for\nmany reasons, often due to issues with your setup or how NumPy was\ninstalled.\n\nWe have compiled some common reasons and troubleshooting tips at:\n\n    https://numpy.org/devdocs/user/troubleshooting-importerror.html\n\nPlease note and check the following:\n\n  * The Python version is: Python3.11 from \"c:\\MY_FOLDER\\Python\\python.exe\"\n  * The NumPy version is: \"1.24.3\"\n\nand make sure that they are the versions you expect.\nPlease carefully study the documentation linked above for further help.\n\nOriginal error was: No module named 'numpy.core._multiarray_umath'\n"
     ]
    }
   ],
   "source": [
    "import pandas as pd\n",
    "original_data=pd.read_csv('melb_data_fe.csv', sep=',')\n",
    "melb_df=original_data.copy()\n",
    "#display(melb_df.head())\n",
    "\n",
    "melb_df['Date']=pd.to_datetime(melb_df['Date'])\n",
    "#display(melb_df['Date'])\n",
    "quarters=melb_df['Date'].dt.quarter\n",
    "quarters.value_counts()\n",
    "\n",
    "list_1=['Date', 'Rooms', 'Bedroom', 'Bathroom', 'Car']\n",
    "max_unique_count=150\n",
    "for i in melb_df.columns:\n",
    "    if (melb_df[i].nunique() < max_unique_count) & (i not in list_1):\n",
    "        melb_df[i]=melb_df[i].astype('category')\n",
    "        \n",
    "mask_1=(melb_df.dtypes=='category')\n",
    "mask_1.value_counts()\n",
    "#display(melb_df.loc[:,['AreaRatio']].head())\n",
    "melb_df=melb_df.sort_values(by='AreaRatio', ascending=False, ignore_index=True)\n",
    "#melb_df.iloc[1558,:]\n",
    "\n",
    "mask_1=melb_df['Type']=='townhouse'\n",
    "mask_2=melb_df['Rooms']>2\n",
    "melb_df[mask_1 & mask_2].sort_values(\n",
    "    by=['Rooms','MeanRoomsSquare'],\n",
    "    ascending=[True, False],\n",
    "    ignore_index=True\n",
    ").iloc[18,:]\n",
    "\n",
    "melb_df.groupby('Rooms')['Price'].agg(\n",
    "    ['mean']\n",
    ").sort_values(by='mean', ascending=False)\n",
    "\n",
    "melb_df.groupby('Regionname')['Lattitude'].agg(\n",
    "    ['std']\n",
    ").sort_values(by='std')\n",
    "\n",
    "task_1=melb_df.loc[:,['Price','SellerG', 'Date']]\n",
    "#Какая риелторская компания (SellerG) имеет \n",
    "# наименьшую общую выручку за период с 1 мая(#121) по 1 сентября(#244) (включительно) 2017 года?\n",
    "mask_1=(melb_df['Date'].dt.year == 2017)\n",
    "melb_df['Day_of_year']=melb_df['Date'].dt.dayofyear\n",
    "mask_2=((melb_df['Day_of_year']>=121) & (melb_df['Day_of_year']<=244))\n",
    "melb_df[mask_1 & mask_2].groupby('SellerG')['Price'].agg(\n",
    "    ['sum']\n",
    ").sort_values(by='sum')\n",
    "\n",
    "#зависимость медианной площади (BuildingArea) здания от типа объекта недвижимости (Type) и\n",
    "# количества жилых комнат в доме (Rooms)\n",
    "# Для какой комбинации признаков площадь здания наибольшая?\n",
    "melb_df.groupby(['Type','Rooms'])['BuildingArea'].median()\n",
    "\n",
    "#Составьте сводную таблицу, которая показывает зависимость медианной цены объекта недвижимости (Price)\n",
    "# от риелторского агентства (SellerG) и типа здания (Type).\n",
    "pivot=melb_df.pivot_table(\n",
    "    values='Price',\n",
    "    index='SellerG',\n",
    "    columns='Type',\n",
    "    aggfunc='median',\n",
    "    fill_value=0\n",
    ")\n",
    "#display(pivot)\n",
    "mask_1=pivot['unit']==900000\n",
    "pivot[mask_1].index\n",
    "\n"
   ]
  }
 ],
 "metadata": {
  "kernelspec": {
   "display_name": "Python 3",
   "language": "python",
   "name": "python3"
  },
  "language_info": {
   "codemirror_mode": {
    "name": "ipython",
    "version": 3
   },
   "file_extension": ".py",
   "mimetype": "text/x-python",
   "name": "python",
   "nbconvert_exporter": "python",
   "pygments_lexer": "ipython3",
   "version": "3.11.4"
  },
  "orig_nbformat": 4
 },
 "nbformat": 4,
 "nbformat_minor": 2
}
