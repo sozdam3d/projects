{
 "cells": [
  {
   "cell_type": "code",
   "execution_count": 13,
   "metadata": {},
   "outputs": [
    {
     "data": {
      "text/plain": [
       "15085"
      ]
     },
     "execution_count": 13,
     "metadata": {},
     "output_type": "execute_result"
    }
   ],
   "source": [
    "import pandas as pd\n",
    "\n",
    "data=pd.read_csv('citibike-tripdata.csv', sep=',')\n",
    "#data.info()\n",
    "mask_1=(data['usertype']=='Subscriber')\n",
    "\n",
    "#data['usertype'].value_counts()\n",
    "#display(round((232202/(232202+67798)),2))\n",
    "\n",
    "#data['gender'].value_counts()\n",
    "\n",
    "#display(data['start station name'].nunique())\n",
    "#data['end station name'].nunique()\n",
    "\n",
    "#september 2018\n",
    "data['birth year'].max()\n",
    "\n",
    "data['start station name'].value_counts()\n",
    "\n",
    "data['end station name'].value_counts()\n",
    "\n",
    "data=data.drop(['start station id', 'end station id'], axis=1)\n",
    "data['age']=2018-data['birth year']\n",
    "\n",
    "data=data.drop(['birth year'], axis=1)\n",
    "mask_1=(data['age']>60)\n",
    "data[mask_1].value_counts(normalize=True)\n",
    "\n",
    "data['starttime']=pd.to_datetime(data['starttime'])\n",
    "data['stoptime']=pd.to_datetime(data['stoptime'])\n",
    "deltatime=(data['stoptime']-data['starttime'])\n",
    "\n",
    "data['weekend']=data['starttime'].dt.dayofweek.apply(lambda x: 1 if (x==5 or x==6) else 0)\n",
    "mask_1=(data['weekend']==1)\n",
    "#data[mask_1].info()\n",
    "\n",
    "from code_for_exam import time_function\n",
    "data['time_of_day']=data['starttime'].dt.hour\n",
    "data['time_of_day']=data['time_of_day'].apply(time_function)\n",
    "mask_day=data['time_of_day']=='day'\n",
    "mask_night=data['time_of_day']=='night'\n",
    "data[mask_day].shape[0] # 143012\n",
    "data[mask_night].shape[0] #15085\n"
   ]
  },
  {
   "cell_type": "code",
   "execution_count": null,
   "metadata": {},
   "outputs": [],
   "source": []
  },
  {
   "cell_type": "code",
   "execution_count": null,
   "metadata": {},
   "outputs": [],
   "source": []
  }
 ],
 "metadata": {
  "kernelspec": {
   "display_name": "Python 3",
   "language": "python",
   "name": "python3"
  },
  "language_info": {
   "codemirror_mode": {
    "name": "ipython",
    "version": 3
   },
   "file_extension": ".py",
   "mimetype": "text/x-python",
   "name": "python",
   "nbconvert_exporter": "python",
   "pygments_lexer": "ipython3",
   "version": "3.9.10"
  },
  "orig_nbformat": 4
 },
 "nbformat": 4,
 "nbformat_minor": 2
}
